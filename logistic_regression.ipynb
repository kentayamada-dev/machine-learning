{
  "nbformat": 4,
  "nbformat_minor": 0,
  "metadata": {
    "colab": {
      "name": "logistic_regression.ipynb",
      "provenance": [],
      "collapsed_sections": [],
      "authorship_tag": "ABX9TyOdKdw6Clg4x7DieXZ46nYM",
      "include_colab_link": true
    },
    "kernelspec": {
      "name": "python3",
      "display_name": "Python 3"
    },
    "language_info": {
      "name": "python"
    }
  },
  "cells": [
    {
      "cell_type": "markdown",
      "metadata": {
        "id": "view-in-github",
        "colab_type": "text"
      },
      "source": [
        "<a href=\"https://colab.research.google.com/github/dev-kentayamada/machine-learning/blob/main/logistic_regression.ipynb\" target=\"_parent\"><img src=\"https://colab.research.google.com/assets/colab-badge.svg\" alt=\"Open In Colab\"/></a>"
      ]
    },
    {
      "cell_type": "markdown",
      "metadata": {
        "id": "j_ldk9wWQyrQ"
      },
      "source": [
        "# ロジスティック回帰\n",
        "$$p\\left( X\\right) =\\dfrac{e^{\\left( \\beta_0+\\beta_1x_1+ \\dots \\beta_kx_k \\right) }}{1+e^{\\left( \\beta_0+\\beta_1x_1+ \\dots \\beta_kx_k \\right) }}$$\n",
        "- 前提\n",
        " - 内相性がないこと\n",
        " - 正規性と同分散性\n",
        " - 自己相関がないこと\n",
        " - 多重共線性がないこと\n",
        "\n",
        "* ロジスティック回帰は、ある事象が発生する確率を予測する\n"
      ]
    },
    {
      "cell_type": "markdown",
      "metadata": {
        "id": "sqkZZ4RRynGA"
      },
      "source": [
        "##ライブラリのインポート"
      ]
    },
    {
      "cell_type": "code",
      "metadata": {
        "colab": {
          "base_uri": "https://localhost:8080/"
        },
        "id": "2WFSfSrVya8d",
        "outputId": "2354d4f3-ebc9-4e0e-d434-fede4bce55f2"
      },
      "source": [
        "import numpy as np\n",
        "import pandas as pd\n",
        "import matplotlib.pyplot as plt\n",
        "import statsmodels.api as sm\n",
        "import seaborn as sns\n",
        "from IPython.display import HTML, display\n",
        "from statsmodels.stats.outliers_influence import variance_inflation_factor\n",
        "#出力結果に対してフィルタリング・ページング\n",
        "%load_ext google.colab.data_table\n",
        "sns.set() #seabornのデフォルトスタイルを適用)"
      ],
      "execution_count": null,
      "outputs": [
        {
          "output_type": "stream",
          "text": [
            "/usr/local/lib/python3.7/dist-packages/statsmodels/tools/_testing.py:19: FutureWarning: pandas.util.testing is deprecated. Use the functions in the public API at pandas.testing instead.\n",
            "  import pandas.util.testing as tm\n"
          ],
          "name": "stderr"
        }
      ]
    },
    {
      "cell_type": "markdown",
      "metadata": {
        "id": "J18yTNcGyx0O"
      },
      "source": [
        "##データを読み込む"
      ]
    },
    {
      "cell_type": "markdown",
      "metadata": {
        "id": "nebLpC5YhFqX"
      },
      "source": [
        "###訓練データ"
      ]
    },
    {
      "cell_type": "code",
      "metadata": {
        "colab": {
          "base_uri": "https://localhost:8080/",
          "height": 1140
        },
        "id": "j19xNkaNyyUL",
        "outputId": "fd1c1c58-4854-47ec-ffec-abdb474b0c95"
      },
      "source": [
        "!gdown --id 1O9qw9cJ1-IMSwfChEyv2ZfCBp4KeEWYo #Google driveからデータをダウンロード\n",
        "train = pd.read_csv('2.02. Binary predictors.csv')\n",
        "display(train)\n",
        "display(train.describe(include='all'))\n",
        "display(train.info())"
      ],
      "execution_count": null,
      "outputs": [
        {
          "output_type": "stream",
          "text": [
            "Downloading...\n",
            "From: https://drive.google.com/uc?id=1O9qw9cJ1-IMSwfChEyv2ZfCBp4KeEWYo\n",
            "To: /content/2.02. Binary predictors.csv\n",
            "\r  0% 0.00/2.62k [00:00<?, ?B/s]\r100% 2.62k/2.62k [00:00<00:00, 988kB/s]\n"
          ],
          "name": "stdout"
        },
        {
          "output_type": "display_data",
          "data": {
            "application/vnd.google.colaboratory.module+javascript": "\n      import \"https://ssl.gstatic.com/colaboratory/data_table/a6224c040fa35dcf/data_table.js\";\n\n      window.createDataTable({\n        data: [[{\n            'v': 0,\n            'f': \"0\",\n        },\n{\n            'v': 1363,\n            'f': \"1363\",\n        },\n\"No\",\n\"Male\"],\n [{\n            'v': 1,\n            'f': \"1\",\n        },\n{\n            'v': 1792,\n            'f': \"1792\",\n        },\n\"Yes\",\n\"Female\"],\n [{\n            'v': 2,\n            'f': \"2\",\n        },\n{\n            'v': 1954,\n            'f': \"1954\",\n        },\n\"Yes\",\n\"Female\"],\n [{\n            'v': 3,\n            'f': \"3\",\n        },\n{\n            'v': 1653,\n            'f': \"1653\",\n        },\n\"No\",\n\"Male\"],\n [{\n            'v': 4,\n            'f': \"4\",\n        },\n{\n            'v': 1593,\n            'f': \"1593\",\n        },\n\"No\",\n\"Male\"],\n [{\n            'v': 5,\n            'f': \"5\",\n        },\n{\n            'v': 1755,\n            'f': \"1755\",\n        },\n\"Yes\",\n\"Female\"],\n [{\n            'v': 6,\n            'f': \"6\",\n        },\n{\n            'v': 1775,\n            'f': \"1775\",\n        },\n\"Yes\",\n\"Female\"],\n [{\n            'v': 7,\n            'f': \"7\",\n        },\n{\n            'v': 1887,\n            'f': \"1887\",\n        },\n\"Yes\",\n\"Female\"],\n [{\n            'v': 8,\n            'f': \"8\",\n        },\n{\n            'v': 1893,\n            'f': \"1893\",\n        },\n\"Yes\",\n\"Female\"],\n [{\n            'v': 9,\n            'f': \"9\",\n        },\n{\n            'v': 1580,\n            'f': \"1580\",\n        },\n\"No\",\n\"Male\"],\n [{\n            'v': 10,\n            'f': \"10\",\n        },\n{\n            'v': 1857,\n            'f': \"1857\",\n        },\n\"Yes\",\n\"Female\"],\n [{\n            'v': 11,\n            'f': \"11\",\n        },\n{\n            'v': 1880,\n            'f': \"1880\",\n        },\n\"Yes\",\n\"Female\"],\n [{\n            'v': 12,\n            'f': \"12\",\n        },\n{\n            'v': 1664,\n            'f': \"1664\",\n        },\n\"Yes\",\n\"Female\"],\n [{\n            'v': 13,\n            'f': \"13\",\n        },\n{\n            'v': 1364,\n            'f': \"1364\",\n        },\n\"No\",\n\"Male\"],\n [{\n            'v': 14,\n            'f': \"14\",\n        },\n{\n            'v': 1693,\n            'f': \"1693\",\n        },\n\"No\",\n\"Male\"],\n [{\n            'v': 15,\n            'f': \"15\",\n        },\n{\n            'v': 1850,\n            'f': \"1850\",\n        },\n\"Yes\",\n\"Female\"],\n [{\n            'v': 16,\n            'f': \"16\",\n        },\n{\n            'v': 1633,\n            'f': \"1633\",\n        },\n\"No\",\n\"Male\"],\n [{\n            'v': 17,\n            'f': \"17\",\n        },\n{\n            'v': 1634,\n            'f': \"1634\",\n        },\n\"No\",\n\"Male\"],\n [{\n            'v': 18,\n            'f': \"18\",\n        },\n{\n            'v': 1636,\n            'f': \"1636\",\n        },\n\"Yes\",\n\"Female\"],\n [{\n            'v': 19,\n            'f': \"19\",\n        },\n{\n            'v': 1855,\n            'f': \"1855\",\n        },\n\"Yes\",\n\"Female\"],\n [{\n            'v': 20,\n            'f': \"20\",\n        },\n{\n            'v': 1987,\n            'f': \"1987\",\n        },\n\"Yes\",\n\"Female\"],\n [{\n            'v': 21,\n            'f': \"21\",\n        },\n{\n            'v': 1997,\n            'f': \"1997\",\n        },\n\"Yes\",\n\"Male\"],\n [{\n            'v': 22,\n            'f': \"22\",\n        },\n{\n            'v': 1422,\n            'f': \"1422\",\n        },\n\"No\",\n\"Female\"],\n [{\n            'v': 23,\n            'f': \"23\",\n        },\n{\n            'v': 1508,\n            'f': \"1508\",\n        },\n\"No\",\n\"Female\"],\n [{\n            'v': 24,\n            'f': \"24\",\n        },\n{\n            'v': 1720,\n            'f': \"1720\",\n        },\n\"Yes\",\n\"Female\"],\n [{\n            'v': 25,\n            'f': \"25\",\n        },\n{\n            'v': 1879,\n            'f': \"1879\",\n        },\n\"Yes\",\n\"Male\"],\n [{\n            'v': 26,\n            'f': \"26\",\n        },\n{\n            'v': 1634,\n            'f': \"1634\",\n        },\n\"Yes\",\n\"Female\"],\n [{\n            'v': 27,\n            'f': \"27\",\n        },\n{\n            'v': 1802,\n            'f': \"1802\",\n        },\n\"Yes\",\n\"Male\"],\n [{\n            'v': 28,\n            'f': \"28\",\n        },\n{\n            'v': 1849,\n            'f': \"1849\",\n        },\n\"Yes\",\n\"Female\"],\n [{\n            'v': 29,\n            'f': \"29\",\n        },\n{\n            'v': 1764,\n            'f': \"1764\",\n        },\n\"Yes\",\n\"Female\"],\n [{\n            'v': 30,\n            'f': \"30\",\n        },\n{\n            'v': 1460,\n            'f': \"1460\",\n        },\n\"No\",\n\"Male\"],\n [{\n            'v': 31,\n            'f': \"31\",\n        },\n{\n            'v': 1675,\n            'f': \"1675\",\n        },\n\"Yes\",\n\"Female\"],\n [{\n            'v': 32,\n            'f': \"32\",\n        },\n{\n            'v': 1656,\n            'f': \"1656\",\n        },\n\"No\",\n\"Male\"],\n [{\n            'v': 33,\n            'f': \"33\",\n        },\n{\n            'v': 2020,\n            'f': \"2020\",\n        },\n\"Yes\",\n\"Male\"],\n [{\n            'v': 34,\n            'f': \"34\",\n        },\n{\n            'v': 1850,\n            'f': \"1850\",\n        },\n\"Yes\",\n\"Male\"],\n [{\n            'v': 35,\n            'f': \"35\",\n        },\n{\n            'v': 1865,\n            'f': \"1865\",\n        },\n\"Yes\",\n\"Male\"],\n [{\n            'v': 36,\n            'f': \"36\",\n        },\n{\n            'v': 1664,\n            'f': \"1664\",\n        },\n\"No\",\n\"Male\"],\n [{\n            'v': 37,\n            'f': \"37\",\n        },\n{\n            'v': 1872,\n            'f': \"1872\",\n        },\n\"Yes\",\n\"Female\"],\n [{\n            'v': 38,\n            'f': \"38\",\n        },\n{\n            'v': 1654,\n            'f': \"1654\",\n        },\n\"No\",\n\"Male\"],\n [{\n            'v': 39,\n            'f': \"39\",\n        },\n{\n            'v': 1393,\n            'f': \"1393\",\n        },\n\"No\",\n\"Female\"],\n [{\n            'v': 40,\n            'f': \"40\",\n        },\n{\n            'v': 1587,\n            'f': \"1587\",\n        },\n\"No\",\n\"Male\"],\n [{\n            'v': 41,\n            'f': \"41\",\n        },\n{\n            'v': 1631,\n            'f': \"1631\",\n        },\n\"Yes\",\n\"Female\"],\n [{\n            'v': 42,\n            'f': \"42\",\n        },\n{\n            'v': 1931,\n            'f': \"1931\",\n        },\n\"Yes\",\n\"Male\"],\n [{\n            'v': 43,\n            'f': \"43\",\n        },\n{\n            'v': 1370,\n            'f': \"1370\",\n        },\n\"No\",\n\"Male\"],\n [{\n            'v': 44,\n            'f': \"44\",\n        },\n{\n            'v': 1810,\n            'f': \"1810\",\n        },\n\"Yes\",\n\"Male\"],\n [{\n            'v': 45,\n            'f': \"45\",\n        },\n{\n            'v': 1414,\n            'f': \"1414\",\n        },\n\"No\",\n\"Male\"],\n [{\n            'v': 46,\n            'f': \"46\",\n        },\n{\n            'v': 1761,\n            'f': \"1761\",\n        },\n\"Yes\",\n\"Female\"],\n [{\n            'v': 47,\n            'f': \"47\",\n        },\n{\n            'v': 1477,\n            'f': \"1477\",\n        },\n\"No\",\n\"Male\"],\n [{\n            'v': 48,\n            'f': \"48\",\n        },\n{\n            'v': 1486,\n            'f': \"1486\",\n        },\n\"No\",\n\"Male\"],\n [{\n            'v': 49,\n            'f': \"49\",\n        },\n{\n            'v': 1561,\n            'f': \"1561\",\n        },\n\"No\",\n\"Male\"],\n [{\n            'v': 50,\n            'f': \"50\",\n        },\n{\n            'v': 1549,\n            'f': \"1549\",\n        },\n\"No\",\n\"Male\"],\n [{\n            'v': 51,\n            'f': \"51\",\n        },\n{\n            'v': 2050,\n            'f': \"2050\",\n        },\n\"Yes\",\n\"Male\"],\n [{\n            'v': 52,\n            'f': \"52\",\n        },\n{\n            'v': 1697,\n            'f': \"1697\",\n        },\n\"No\",\n\"Female\"],\n [{\n            'v': 53,\n            'f': \"53\",\n        },\n{\n            'v': 1543,\n            'f': \"1543\",\n        },\n\"No\",\n\"Female\"],\n [{\n            'v': 54,\n            'f': \"54\",\n        },\n{\n            'v': 1934,\n            'f': \"1934\",\n        },\n\"Yes\",\n\"Female\"],\n [{\n            'v': 55,\n            'f': \"55\",\n        },\n{\n            'v': 1385,\n            'f': \"1385\",\n        },\n\"No\",\n\"Male\"],\n [{\n            'v': 56,\n            'f': \"56\",\n        },\n{\n            'v': 1670,\n            'f': \"1670\",\n        },\n\"No\",\n\"Male\"],\n [{\n            'v': 57,\n            'f': \"57\",\n        },\n{\n            'v': 1735,\n            'f': \"1735\",\n        },\n\"Yes\",\n\"Female\"],\n [{\n            'v': 58,\n            'f': \"58\",\n        },\n{\n            'v': 1634,\n            'f': \"1634\",\n        },\n\"No\",\n\"Male\"],\n [{\n            'v': 59,\n            'f': \"59\",\n        },\n{\n            'v': 1777,\n            'f': \"1777\",\n        },\n\"Yes\",\n\"Female\"],\n [{\n            'v': 60,\n            'f': \"60\",\n        },\n{\n            'v': 1550,\n            'f': \"1550\",\n        },\n\"No\",\n\"Male\"],\n [{\n            'v': 61,\n            'f': \"61\",\n        },\n{\n            'v': 1715,\n            'f': \"1715\",\n        },\n\"Yes\",\n\"Male\"],\n [{\n            'v': 62,\n            'f': \"62\",\n        },\n{\n            'v': 1925,\n            'f': \"1925\",\n        },\n\"Yes\",\n\"Female\"],\n [{\n            'v': 63,\n            'f': \"63\",\n        },\n{\n            'v': 1842,\n            'f': \"1842\",\n        },\n\"Yes\",\n\"Male\"],\n [{\n            'v': 64,\n            'f': \"64\",\n        },\n{\n            'v': 1786,\n            'f': \"1786\",\n        },\n\"Yes\",\n\"Male\"],\n [{\n            'v': 65,\n            'f': \"65\",\n        },\n{\n            'v': 1435,\n            'f': \"1435\",\n        },\n\"No\",\n\"Male\"],\n [{\n            'v': 66,\n            'f': \"66\",\n        },\n{\n            'v': 1387,\n            'f': \"1387\",\n        },\n\"No\",\n\"Male\"],\n [{\n            'v': 67,\n            'f': \"67\",\n        },\n{\n            'v': 1521,\n            'f': \"1521\",\n        },\n\"No\",\n\"Male\"],\n [{\n            'v': 68,\n            'f': \"68\",\n        },\n{\n            'v': 1975,\n            'f': \"1975\",\n        },\n\"Yes\",\n\"Female\"],\n [{\n            'v': 69,\n            'f': \"69\",\n        },\n{\n            'v': 1435,\n            'f': \"1435\",\n        },\n\"No\",\n\"Male\"],\n [{\n            'v': 70,\n            'f': \"70\",\n        },\n{\n            'v': 1714,\n            'f': \"1714\",\n        },\n\"Yes\",\n\"Male\"],\n [{\n            'v': 71,\n            'f': \"71\",\n        },\n{\n            'v': 1634,\n            'f': \"1634\",\n        },\n\"Yes\",\n\"Male\"],\n [{\n            'v': 72,\n            'f': \"72\",\n        },\n{\n            'v': 1464,\n            'f': \"1464\",\n        },\n\"No\",\n\"Female\"],\n [{\n            'v': 73,\n            'f': \"73\",\n        },\n{\n            'v': 1794,\n            'f': \"1794\",\n        },\n\"Yes\",\n\"Male\"],\n [{\n            'v': 74,\n            'f': \"74\",\n        },\n{\n            'v': 1855,\n            'f': \"1855\",\n        },\n\"Yes\",\n\"Male\"],\n [{\n            'v': 75,\n            'f': \"75\",\n        },\n{\n            'v': 1953,\n            'f': \"1953\",\n        },\n\"Yes\",\n\"Male\"],\n [{\n            'v': 76,\n            'f': \"76\",\n        },\n{\n            'v': 1469,\n            'f': \"1469\",\n        },\n\"No\",\n\"Male\"],\n [{\n            'v': 77,\n            'f': \"77\",\n        },\n{\n            'v': 1663,\n            'f': \"1663\",\n        },\n\"Yes\",\n\"Male\"],\n [{\n            'v': 78,\n            'f': \"78\",\n        },\n{\n            'v': 1907,\n            'f': \"1907\",\n        },\n\"Yes\",\n\"Female\"],\n [{\n            'v': 79,\n            'f': \"79\",\n        },\n{\n            'v': 1990,\n            'f': \"1990\",\n        },\n\"Yes\",\n\"Female\"],\n [{\n            'v': 80,\n            'f': \"80\",\n        },\n{\n            'v': 1542,\n            'f': \"1542\",\n        },\n\"No\",\n\"Male\"],\n [{\n            'v': 81,\n            'f': \"81\",\n        },\n{\n            'v': 1808,\n            'f': \"1808\",\n        },\n\"Yes\",\n\"Female\"],\n [{\n            'v': 82,\n            'f': \"82\",\n        },\n{\n            'v': 1966,\n            'f': \"1966\",\n        },\n\"Yes\",\n\"Female\"],\n [{\n            'v': 83,\n            'f': \"83\",\n        },\n{\n            'v': 1679,\n            'f': \"1679\",\n        },\n\"No\",\n\"Female\"],\n [{\n            'v': 84,\n            'f': \"84\",\n        },\n{\n            'v': 2021,\n            'f': \"2021\",\n        },\n\"Yes\",\n\"Female\"],\n [{\n            'v': 85,\n            'f': \"85\",\n        },\n{\n            'v': 2015,\n            'f': \"2015\",\n        },\n\"Yes\",\n\"Female\"],\n [{\n            'v': 86,\n            'f': \"86\",\n        },\n{\n            'v': 1473,\n            'f': \"1473\",\n        },\n\"No\",\n\"Male\"],\n [{\n            'v': 87,\n            'f': \"87\",\n        },\n{\n            'v': 1979,\n            'f': \"1979\",\n        },\n\"Yes\",\n\"Male\"],\n [{\n            'v': 88,\n            'f': \"88\",\n        },\n{\n            'v': 1787,\n            'f': \"1787\",\n        },\n\"Yes\",\n\"Female\"],\n [{\n            'v': 89,\n            'f': \"89\",\n        },\n{\n            'v': 1687,\n            'f': \"1687\",\n        },\n\"Yes\",\n\"Female\"],\n [{\n            'v': 90,\n            'f': \"90\",\n        },\n{\n            'v': 1674,\n            'f': \"1674\",\n        },\n\"No\",\n\"Female\"],\n [{\n            'v': 91,\n            'f': \"91\",\n        },\n{\n            'v': 1478,\n            'f': \"1478\",\n        },\n\"No\",\n\"Female\"],\n [{\n            'v': 92,\n            'f': \"92\",\n        },\n{\n            'v': 1735,\n            'f': \"1735\",\n        },\n\"Yes\",\n\"Female\"],\n [{\n            'v': 93,\n            'f': \"93\",\n        },\n{\n            'v': 1720,\n            'f': \"1720\",\n        },\n\"Yes\",\n\"Female\"],\n [{\n            'v': 94,\n            'f': \"94\",\n        },\n{\n            'v': 1494,\n            'f': \"1494\",\n        },\n\"No\",\n\"Male\"],\n [{\n            'v': 95,\n            'f': \"95\",\n        },\n{\n            'v': 1964,\n            'f': \"1964\",\n        },\n\"Yes\",\n\"Male\"],\n [{\n            'v': 96,\n            'f': \"96\",\n        },\n{\n            'v': 1843,\n            'f': \"1843\",\n        },\n\"Yes\",\n\"Female\"],\n [{\n            'v': 97,\n            'f': \"97\",\n        },\n{\n            'v': 1550,\n            'f': \"1550\",\n        },\n\"No\",\n\"Female\"],\n [{\n            'v': 98,\n            'f': \"98\",\n        },\n{\n            'v': 1764,\n            'f': \"1764\",\n        },\n\"Yes\",\n\"Female\"],\n [{\n            'v': 99,\n            'f': \"99\",\n        },\n{\n            'v': 1712,\n            'f': \"1712\",\n        },\n\"Yes\",\n\"Female\"],\n [{\n            'v': 100,\n            'f': \"100\",\n        },\n{\n            'v': 1775,\n            'f': \"1775\",\n        },\n\"Yes\",\n\"Female\"],\n [{\n            'v': 101,\n            'f': \"101\",\n        },\n{\n            'v': 1531,\n            'f': \"1531\",\n        },\n\"No\",\n\"Male\"],\n [{\n            'v': 102,\n            'f': \"102\",\n        },\n{\n            'v': 1781,\n            'f': \"1781\",\n        },\n\"Yes\",\n\"Female\"],\n [{\n            'v': 103,\n            'f': \"103\",\n        },\n{\n            'v': 1579,\n            'f': \"1579\",\n        },\n\"No\",\n\"Male\"],\n [{\n            'v': 104,\n            'f': \"104\",\n        },\n{\n            'v': 1526,\n            'f': \"1526\",\n        },\n\"No\",\n\"Female\"],\n [{\n            'v': 105,\n            'f': \"105\",\n        },\n{\n            'v': 1778,\n            'f': \"1778\",\n        },\n\"Yes\",\n\"Female\"],\n [{\n            'v': 106,\n            'f': \"106\",\n        },\n{\n            'v': 1769,\n            'f': \"1769\",\n        },\n\"Yes\",\n\"Female\"],\n [{\n            'v': 107,\n            'f': \"107\",\n        },\n{\n            'v': 1824,\n            'f': \"1824\",\n        },\n\"Yes\",\n\"Female\"],\n [{\n            'v': 108,\n            'f': \"108\",\n        },\n{\n            'v': 1481,\n            'f': \"1481\",\n        },\n\"No\",\n\"Male\"],\n [{\n            'v': 109,\n            'f': \"109\",\n        },\n{\n            'v': 1464,\n            'f': \"1464\",\n        },\n\"No\",\n\"Male\"],\n [{\n            'v': 110,\n            'f': \"110\",\n        },\n{\n            'v': 1591,\n            'f': \"1591\",\n        },\n\"No\",\n\"Male\"],\n [{\n            'v': 111,\n            'f': \"111\",\n        },\n{\n            'v': 1666,\n            'f': \"1666\",\n        },\n\"No\",\n\"Male\"],\n [{\n            'v': 112,\n            'f': \"112\",\n        },\n{\n            'v': 1455,\n            'f': \"1455\",\n        },\n\"No\",\n\"Male\"],\n [{\n            'v': 113,\n            'f': \"113\",\n        },\n{\n            'v': 1934,\n            'f': \"1934\",\n        },\n\"Yes\",\n\"Female\"],\n [{\n            'v': 114,\n            'f': \"114\",\n        },\n{\n            'v': 1625,\n            'f': \"1625\",\n        },\n\"No\",\n\"Male\"],\n [{\n            'v': 115,\n            'f': \"115\",\n        },\n{\n            'v': 1334,\n            'f': \"1334\",\n        },\n\"No\",\n\"Male\"],\n [{\n            'v': 116,\n            'f': \"116\",\n        },\n{\n            'v': 1721,\n            'f': \"1721\",\n        },\n\"Yes\",\n\"Female\"],\n [{\n            'v': 117,\n            'f': \"117\",\n        },\n{\n            'v': 1475,\n            'f': \"1475\",\n        },\n\"No\",\n\"Male\"],\n [{\n            'v': 118,\n            'f': \"118\",\n        },\n{\n            'v': 1662,\n            'f': \"1662\",\n        },\n\"Yes\",\n\"Female\"],\n [{\n            'v': 119,\n            'f': \"119\",\n        },\n{\n            'v': 1861,\n            'f': \"1861\",\n        },\n\"Yes\",\n\"Female\"],\n [{\n            'v': 120,\n            'f': \"120\",\n        },\n{\n            'v': 1936,\n            'f': \"1936\",\n        },\n\"Yes\",\n\"Female\"],\n [{\n            'v': 121,\n            'f': \"121\",\n        },\n{\n            'v': 1572,\n            'f': \"1572\",\n        },\n\"No\",\n\"Male\"],\n [{\n            'v': 122,\n            'f': \"122\",\n        },\n{\n            'v': 1508,\n            'f': \"1508\",\n        },\n\"No\",\n\"Female\"],\n [{\n            'v': 123,\n            'f': \"123\",\n        },\n{\n            'v': 1430,\n            'f': \"1430\",\n        },\n\"No\",\n\"Male\"],\n [{\n            'v': 124,\n            'f': \"124\",\n        },\n{\n            'v': 1891,\n            'f': \"1891\",\n        },\n\"Yes\",\n\"Female\"],\n [{\n            'v': 125,\n            'f': \"125\",\n        },\n{\n            'v': 1550,\n            'f': \"1550\",\n        },\n\"No\",\n\"Male\"],\n [{\n            'v': 126,\n            'f': \"126\",\n        },\n{\n            'v': 1741,\n            'f': \"1741\",\n        },\n\"Yes\",\n\"Female\"],\n [{\n            'v': 127,\n            'f': \"127\",\n        },\n{\n            'v': 1690,\n            'f': \"1690\",\n        },\n\"No\",\n\"Male\"],\n [{\n            'v': 128,\n            'f': \"128\",\n        },\n{\n            'v': 1687,\n            'f': \"1687\",\n        },\n\"Yes\",\n\"Male\"],\n [{\n            'v': 129,\n            'f': \"129\",\n        },\n{\n            'v': 1730,\n            'f': \"1730\",\n        },\n\"Yes\",\n\"Male\"],\n [{\n            'v': 130,\n            'f': \"130\",\n        },\n{\n            'v': 1674,\n            'f': \"1674\",\n        },\n\"Yes\",\n\"Female\"],\n [{\n            'v': 131,\n            'f': \"131\",\n        },\n{\n            'v': 1475,\n            'f': \"1475\",\n        },\n\"No\",\n\"Male\"],\n [{\n            'v': 132,\n            'f': \"132\",\n        },\n{\n            'v': 1962,\n            'f': \"1962\",\n        },\n\"Yes\",\n\"Female\"],\n [{\n            'v': 133,\n            'f': \"133\",\n        },\n{\n            'v': 1532,\n            'f': \"1532\",\n        },\n\"No\",\n\"Male\"],\n [{\n            'v': 134,\n            'f': \"134\",\n        },\n{\n            'v': 1492,\n            'f': \"1492\",\n        },\n\"No\",\n\"Male\"],\n [{\n            'v': 135,\n            'f': \"135\",\n        },\n{\n            'v': 1502,\n            'f': \"1502\",\n        },\n\"No\",\n\"Male\"],\n [{\n            'v': 136,\n            'f': \"136\",\n        },\n{\n            'v': 1974,\n            'f': \"1974\",\n        },\n\"Yes\",\n\"Female\"],\n [{\n            'v': 137,\n            'f': \"137\",\n        },\n{\n            'v': 1607,\n            'f': \"1607\",\n        },\n\"No\",\n\"Male\"],\n [{\n            'v': 138,\n            'f': \"138\",\n        },\n{\n            'v': 1412,\n            'f': \"1412\",\n        },\n\"No\",\n\"Female\"],\n [{\n            'v': 139,\n            'f': \"139\",\n        },\n{\n            'v': 1557,\n            'f': \"1557\",\n        },\n\"No\",\n\"Male\"],\n [{\n            'v': 140,\n            'f': \"140\",\n        },\n{\n            'v': 1821,\n            'f': \"1821\",\n        },\n\"Yes\",\n\"Male\"],\n [{\n            'v': 141,\n            'f': \"141\",\n        },\n{\n            'v': 1760,\n            'f': \"1760\",\n        },\n\"Yes\",\n\"Female\"],\n [{\n            'v': 142,\n            'f': \"142\",\n        },\n{\n            'v': 1685,\n            'f': \"1685\",\n        },\n\"Yes\",\n\"Male\"],\n [{\n            'v': 143,\n            'f': \"143\",\n        },\n{\n            'v': 1773,\n            'f': \"1773\",\n        },\n\"Yes\",\n\"Female\"],\n [{\n            'v': 144,\n            'f': \"144\",\n        },\n{\n            'v': 1826,\n            'f': \"1826\",\n        },\n\"Yes\",\n\"Female\"],\n [{\n            'v': 145,\n            'f': \"145\",\n        },\n{\n            'v': 1565,\n            'f': \"1565\",\n        },\n\"No\",\n\"Female\"],\n [{\n            'v': 146,\n            'f': \"146\",\n        },\n{\n            'v': 1510,\n            'f': \"1510\",\n        },\n\"No\",\n\"Male\"],\n [{\n            'v': 147,\n            'f': \"147\",\n        },\n{\n            'v': 1374,\n            'f': \"1374\",\n        },\n\"No\",\n\"Male\"],\n [{\n            'v': 148,\n            'f': \"148\",\n        },\n{\n            'v': 1402,\n            'f': \"1402\",\n        },\n\"No\",\n\"Male\"],\n [{\n            'v': 149,\n            'f': \"149\",\n        },\n{\n            'v': 1702,\n            'f': \"1702\",\n        },\n\"Yes\",\n\"Male\"],\n [{\n            'v': 150,\n            'f': \"150\",\n        },\n{\n            'v': 1956,\n            'f': \"1956\",\n        },\n\"Yes\",\n\"Female\"],\n [{\n            'v': 151,\n            'f': \"151\",\n        },\n{\n            'v': 1933,\n            'f': \"1933\",\n        },\n\"Yes\",\n\"Male\"],\n [{\n            'v': 152,\n            'f': \"152\",\n        },\n{\n            'v': 1832,\n            'f': \"1832\",\n        },\n\"Yes\",\n\"Male\"],\n [{\n            'v': 153,\n            'f': \"153\",\n        },\n{\n            'v': 1893,\n            'f': \"1893\",\n        },\n\"Yes\",\n\"Male\"],\n [{\n            'v': 154,\n            'f': \"154\",\n        },\n{\n            'v': 1831,\n            'f': \"1831\",\n        },\n\"Yes\",\n\"Female\"],\n [{\n            'v': 155,\n            'f': \"155\",\n        },\n{\n            'v': 1487,\n            'f': \"1487\",\n        },\n\"No\",\n\"Male\"],\n [{\n            'v': 156,\n            'f': \"156\",\n        },\n{\n            'v': 2041,\n            'f': \"2041\",\n        },\n\"Yes\",\n\"Female\"],\n [{\n            'v': 157,\n            'f': \"157\",\n        },\n{\n            'v': 1850,\n            'f': \"1850\",\n        },\n\"Yes\",\n\"Male\"],\n [{\n            'v': 158,\n            'f': \"158\",\n        },\n{\n            'v': 1555,\n            'f': \"1555\",\n        },\n\"No\",\n\"Female\"],\n [{\n            'v': 159,\n            'f': \"159\",\n        },\n{\n            'v': 2020,\n            'f': \"2020\",\n        },\n\"Yes\",\n\"Female\"],\n [{\n            'v': 160,\n            'f': \"160\",\n        },\n{\n            'v': 1593,\n            'f': \"1593\",\n        },\n\"No\",\n\"Male\"],\n [{\n            'v': 161,\n            'f': \"161\",\n        },\n{\n            'v': 1934,\n            'f': \"1934\",\n        },\n\"Yes\",\n\"Female\"],\n [{\n            'v': 162,\n            'f': \"162\",\n        },\n{\n            'v': 1808,\n            'f': \"1808\",\n        },\n\"Yes\",\n\"Male\"],\n [{\n            'v': 163,\n            'f': \"163\",\n        },\n{\n            'v': 1722,\n            'f': \"1722\",\n        },\n\"Yes\",\n\"Female\"],\n [{\n            'v': 164,\n            'f': \"164\",\n        },\n{\n            'v': 1750,\n            'f': \"1750\",\n        },\n\"Yes\",\n\"Male\"],\n [{\n            'v': 165,\n            'f': \"165\",\n        },\n{\n            'v': 1555,\n            'f': \"1555\",\n        },\n\"No\",\n\"Male\"],\n [{\n            'v': 166,\n            'f': \"166\",\n        },\n{\n            'v': 1524,\n            'f': \"1524\",\n        },\n\"No\",\n\"Male\"],\n [{\n            'v': 167,\n            'f': \"167\",\n        },\n{\n            'v': 1461,\n            'f': \"1461\",\n        },\n\"No\",\n\"Male\"]],\n        columns: [[\"number\", \"index\"], [\"number\", \"SAT\"], [\"string\", \"Admitted\"], [\"string\", \"Gender\"]],\n        columnOptions: [{\"width\": \"1px\", \"className\": \"index_column\"}],\n        rowsPerPage: 25,\n        helpUrl: \"https://colab.research.google.com/notebooks/data_table.ipynb\",\n        suppressOutputScrolling: true,\n        minimumWidth: undefined,\n      });\n    ",
            "text/html": [
              "<div>\n",
              "<style scoped>\n",
              "    .dataframe tbody tr th:only-of-type {\n",
              "        vertical-align: middle;\n",
              "    }\n",
              "\n",
              "    .dataframe tbody tr th {\n",
              "        vertical-align: top;\n",
              "    }\n",
              "\n",
              "    .dataframe thead th {\n",
              "        text-align: right;\n",
              "    }\n",
              "</style>\n",
              "<table border=\"1\" class=\"dataframe\">\n",
              "  <thead>\n",
              "    <tr style=\"text-align: right;\">\n",
              "      <th></th>\n",
              "      <th>SAT</th>\n",
              "      <th>Admitted</th>\n",
              "      <th>Gender</th>\n",
              "    </tr>\n",
              "  </thead>\n",
              "  <tbody>\n",
              "    <tr>\n",
              "      <th>0</th>\n",
              "      <td>1363</td>\n",
              "      <td>No</td>\n",
              "      <td>Male</td>\n",
              "    </tr>\n",
              "    <tr>\n",
              "      <th>1</th>\n",
              "      <td>1792</td>\n",
              "      <td>Yes</td>\n",
              "      <td>Female</td>\n",
              "    </tr>\n",
              "    <tr>\n",
              "      <th>2</th>\n",
              "      <td>1954</td>\n",
              "      <td>Yes</td>\n",
              "      <td>Female</td>\n",
              "    </tr>\n",
              "    <tr>\n",
              "      <th>3</th>\n",
              "      <td>1653</td>\n",
              "      <td>No</td>\n",
              "      <td>Male</td>\n",
              "    </tr>\n",
              "    <tr>\n",
              "      <th>4</th>\n",
              "      <td>1593</td>\n",
              "      <td>No</td>\n",
              "      <td>Male</td>\n",
              "    </tr>\n",
              "    <tr>\n",
              "      <th>...</th>\n",
              "      <td>...</td>\n",
              "      <td>...</td>\n",
              "      <td>...</td>\n",
              "    </tr>\n",
              "    <tr>\n",
              "      <th>163</th>\n",
              "      <td>1722</td>\n",
              "      <td>Yes</td>\n",
              "      <td>Female</td>\n",
              "    </tr>\n",
              "    <tr>\n",
              "      <th>164</th>\n",
              "      <td>1750</td>\n",
              "      <td>Yes</td>\n",
              "      <td>Male</td>\n",
              "    </tr>\n",
              "    <tr>\n",
              "      <th>165</th>\n",
              "      <td>1555</td>\n",
              "      <td>No</td>\n",
              "      <td>Male</td>\n",
              "    </tr>\n",
              "    <tr>\n",
              "      <th>166</th>\n",
              "      <td>1524</td>\n",
              "      <td>No</td>\n",
              "      <td>Male</td>\n",
              "    </tr>\n",
              "    <tr>\n",
              "      <th>167</th>\n",
              "      <td>1461</td>\n",
              "      <td>No</td>\n",
              "      <td>Male</td>\n",
              "    </tr>\n",
              "  </tbody>\n",
              "</table>\n",
              "<p>168 rows × 3 columns</p>\n",
              "</div>"
            ],
            "text/plain": [
              "      SAT Admitted  Gender\n",
              "0    1363       No    Male\n",
              "1    1792      Yes  Female\n",
              "2    1954      Yes  Female\n",
              "3    1653       No    Male\n",
              "4    1593       No    Male\n",
              "..    ...      ...     ...\n",
              "163  1722      Yes  Female\n",
              "164  1750      Yes    Male\n",
              "165  1555       No    Male\n",
              "166  1524       No    Male\n",
              "167  1461       No    Male\n",
              "\n",
              "[168 rows x 3 columns]"
            ]
          },
          "metadata": {
            "tags": []
          }
        },
        {
          "output_type": "display_data",
          "data": {
            "application/vnd.google.colaboratory.module+javascript": "\n      import \"https://ssl.gstatic.com/colaboratory/data_table/a6224c040fa35dcf/data_table.js\";\n\n      window.createDataTable({\n        data: [[\"count\",\n{\n            'v': 168.0,\n            'f': \"168.0\",\n        },\n168,\n168],\n [\"unique\",\n{\n            'v': NaN,\n            'f': \"NaN\",\n        },\n2,\n2],\n [\"top\",\n{\n            'v': NaN,\n            'f': \"NaN\",\n        },\n\"Yes\",\n\"Male\"],\n [\"freq\",\n{\n            'v': NaN,\n            'f': \"NaN\",\n        },\n94,\n90],\n [\"mean\",\n{\n            'v': 1695.2738095238096,\n            'f': \"1695.2738095238096\",\n        },\nNaN,\nNaN],\n [\"std\",\n{\n            'v': 183.01901679212554,\n            'f': \"183.01901679212554\",\n        },\nNaN,\nNaN],\n [\"min\",\n{\n            'v': 1334.0,\n            'f': \"1334.0\",\n        },\nNaN,\nNaN],\n [\"25%\",\n{\n            'v': 1547.5,\n            'f': \"1547.5\",\n        },\nNaN,\nNaN],\n [\"50%\",\n{\n            'v': 1691.5,\n            'f': \"1691.5\",\n        },\nNaN,\nNaN],\n [\"75%\",\n{\n            'v': 1844.5,\n            'f': \"1844.5\",\n        },\nNaN,\nNaN],\n [\"max\",\n{\n            'v': 2050.0,\n            'f': \"2050.0\",\n        },\nNaN,\nNaN]],\n        columns: [[\"string\", \"index\"], [\"number\", \"SAT\"], [\"string\", \"Admitted\"], [\"string\", \"Gender\"]],\n        columnOptions: [{\"width\": \"1px\", \"className\": \"index_column\"}],\n        rowsPerPage: 25,\n        helpUrl: \"https://colab.research.google.com/notebooks/data_table.ipynb\",\n        suppressOutputScrolling: true,\n        minimumWidth: undefined,\n      });\n    ",
            "text/html": [
              "<div>\n",
              "<style scoped>\n",
              "    .dataframe tbody tr th:only-of-type {\n",
              "        vertical-align: middle;\n",
              "    }\n",
              "\n",
              "    .dataframe tbody tr th {\n",
              "        vertical-align: top;\n",
              "    }\n",
              "\n",
              "    .dataframe thead th {\n",
              "        text-align: right;\n",
              "    }\n",
              "</style>\n",
              "<table border=\"1\" class=\"dataframe\">\n",
              "  <thead>\n",
              "    <tr style=\"text-align: right;\">\n",
              "      <th></th>\n",
              "      <th>SAT</th>\n",
              "      <th>Admitted</th>\n",
              "      <th>Gender</th>\n",
              "    </tr>\n",
              "  </thead>\n",
              "  <tbody>\n",
              "    <tr>\n",
              "      <th>count</th>\n",
              "      <td>168.000000</td>\n",
              "      <td>168</td>\n",
              "      <td>168</td>\n",
              "    </tr>\n",
              "    <tr>\n",
              "      <th>unique</th>\n",
              "      <td>NaN</td>\n",
              "      <td>2</td>\n",
              "      <td>2</td>\n",
              "    </tr>\n",
              "    <tr>\n",
              "      <th>top</th>\n",
              "      <td>NaN</td>\n",
              "      <td>Yes</td>\n",
              "      <td>Male</td>\n",
              "    </tr>\n",
              "    <tr>\n",
              "      <th>freq</th>\n",
              "      <td>NaN</td>\n",
              "      <td>94</td>\n",
              "      <td>90</td>\n",
              "    </tr>\n",
              "    <tr>\n",
              "      <th>mean</th>\n",
              "      <td>1695.273810</td>\n",
              "      <td>NaN</td>\n",
              "      <td>NaN</td>\n",
              "    </tr>\n",
              "    <tr>\n",
              "      <th>std</th>\n",
              "      <td>183.019017</td>\n",
              "      <td>NaN</td>\n",
              "      <td>NaN</td>\n",
              "    </tr>\n",
              "    <tr>\n",
              "      <th>min</th>\n",
              "      <td>1334.000000</td>\n",
              "      <td>NaN</td>\n",
              "      <td>NaN</td>\n",
              "    </tr>\n",
              "    <tr>\n",
              "      <th>25%</th>\n",
              "      <td>1547.500000</td>\n",
              "      <td>NaN</td>\n",
              "      <td>NaN</td>\n",
              "    </tr>\n",
              "    <tr>\n",
              "      <th>50%</th>\n",
              "      <td>1691.500000</td>\n",
              "      <td>NaN</td>\n",
              "      <td>NaN</td>\n",
              "    </tr>\n",
              "    <tr>\n",
              "      <th>75%</th>\n",
              "      <td>1844.500000</td>\n",
              "      <td>NaN</td>\n",
              "      <td>NaN</td>\n",
              "    </tr>\n",
              "    <tr>\n",
              "      <th>max</th>\n",
              "      <td>2050.000000</td>\n",
              "      <td>NaN</td>\n",
              "      <td>NaN</td>\n",
              "    </tr>\n",
              "  </tbody>\n",
              "</table>\n",
              "</div>"
            ],
            "text/plain": [
              "                SAT Admitted Gender\n",
              "count    168.000000      168    168\n",
              "unique          NaN        2      2\n",
              "top             NaN      Yes   Male\n",
              "freq            NaN       94     90\n",
              "mean    1695.273810      NaN    NaN\n",
              "std      183.019017      NaN    NaN\n",
              "min     1334.000000      NaN    NaN\n",
              "25%     1547.500000      NaN    NaN\n",
              "50%     1691.500000      NaN    NaN\n",
              "75%     1844.500000      NaN    NaN\n",
              "max     2050.000000      NaN    NaN"
            ]
          },
          "metadata": {
            "tags": []
          }
        },
        {
          "output_type": "stream",
          "text": [
            "<class 'pandas.core.frame.DataFrame'>\n",
            "RangeIndex: 168 entries, 0 to 167\n",
            "Data columns (total 3 columns):\n",
            " #   Column    Non-Null Count  Dtype \n",
            "---  ------    --------------  ----- \n",
            " 0   SAT       168 non-null    int64 \n",
            " 1   Admitted  168 non-null    object\n",
            " 2   Gender    168 non-null    object\n",
            "dtypes: int64(1), object(2)\n",
            "memory usage: 4.1+ KB\n"
          ],
          "name": "stdout"
        },
        {
          "output_type": "display_data",
          "data": {
            "text/plain": [
              "None"
            ]
          },
          "metadata": {
            "tags": []
          }
        }
      ]
    },
    {
      "cell_type": "markdown",
      "metadata": {
        "id": "LxdFru7DhIP5"
      },
      "source": [
        "###テストデータ"
      ]
    },
    {
      "cell_type": "code",
      "metadata": {
        "colab": {
          "base_uri": "https://localhost:8080/",
          "height": 1010
        },
        "id": "TwJH_Xn7hN5U",
        "outputId": "c4019340-85e8-476e-dcac-dc9dde98cf98"
      },
      "source": [
        "!gdown --id 1chOPVGcQ56HLp2RIjJdQzgzUEiCBbYxb #Google driveからデータをダウンロード\n",
        "test = pd.read_csv('2.03. Test dataset.csv')\n",
        "display(test)\n",
        "display(test.describe(include='all'))\n",
        "display(test.info())"
      ],
      "execution_count": null,
      "outputs": [
        {
          "output_type": "stream",
          "text": [
            "Downloading...\n",
            "From: https://drive.google.com/uc?id=1chOPVGcQ56HLp2RIjJdQzgzUEiCBbYxb\n",
            "To: /content/2.03. Test dataset.csv\n",
            "\r  0% 0.00/322 [00:00<?, ?B/s]\r100% 322/322 [00:00<00:00, 476kB/s]\n"
          ],
          "name": "stdout"
        },
        {
          "output_type": "display_data",
          "data": {
            "application/vnd.google.colaboratory.module+javascript": "\n      import \"https://ssl.gstatic.com/colaboratory/data_table/a6224c040fa35dcf/data_table.js\";\n\n      window.createDataTable({\n        data: [[{\n            'v': 0,\n            'f': \"0\",\n        },\n{\n            'v': 1323,\n            'f': \"1323\",\n        },\n\"No\",\n\"Male\"],\n [{\n            'v': 1,\n            'f': \"1\",\n        },\n{\n            'v': 1725,\n            'f': \"1725\",\n        },\n\"Yes\",\n\"Female\"],\n [{\n            'v': 2,\n            'f': \"2\",\n        },\n{\n            'v': 1762,\n            'f': \"1762\",\n        },\n\"Yes\",\n\"Female\"],\n [{\n            'v': 3,\n            'f': \"3\",\n        },\n{\n            'v': 1777,\n            'f': \"1777\",\n        },\n\"Yes\",\n\"Male\"],\n [{\n            'v': 4,\n            'f': \"4\",\n        },\n{\n            'v': 1665,\n            'f': \"1665\",\n        },\n\"No\",\n\"Male\"],\n [{\n            'v': 5,\n            'f': \"5\",\n        },\n{\n            'v': 1556,\n            'f': \"1556\",\n        },\n\"Yes\",\n\"Female\"],\n [{\n            'v': 6,\n            'f': \"6\",\n        },\n{\n            'v': 1731,\n            'f': \"1731\",\n        },\n\"Yes\",\n\"Female\"],\n [{\n            'v': 7,\n            'f': \"7\",\n        },\n{\n            'v': 1809,\n            'f': \"1809\",\n        },\n\"Yes\",\n\"Female\"],\n [{\n            'v': 8,\n            'f': \"8\",\n        },\n{\n            'v': 1930,\n            'f': \"1930\",\n        },\n\"Yes\",\n\"Female\"],\n [{\n            'v': 9,\n            'f': \"9\",\n        },\n{\n            'v': 1708,\n            'f': \"1708\",\n        },\n\"Yes\",\n\"Male\"],\n [{\n            'v': 10,\n            'f': \"10\",\n        },\n{\n            'v': 1970,\n            'f': \"1970\",\n        },\n\"Yes\",\n\"Female\"],\n [{\n            'v': 11,\n            'f': \"11\",\n        },\n{\n            'v': 2039,\n            'f': \"2039\",\n        },\n\"Yes\",\n\"Female\"],\n [{\n            'v': 12,\n            'f': \"12\",\n        },\n{\n            'v': 1681,\n            'f': \"1681\",\n        },\n\"Yes\",\n\"Female\"],\n [{\n            'v': 13,\n            'f': \"13\",\n        },\n{\n            'v': 1444,\n            'f': \"1444\",\n        },\n\"No\",\n\"Male\"],\n [{\n            'v': 14,\n            'f': \"14\",\n        },\n{\n            'v': 1726,\n            'f': \"1726\",\n        },\n\"No\",\n\"Male\"],\n [{\n            'v': 15,\n            'f': \"15\",\n        },\n{\n            'v': 1876,\n            'f': \"1876\",\n        },\n\"Yes\",\n\"Female\"],\n [{\n            'v': 16,\n            'f': \"16\",\n        },\n{\n            'v': 1485,\n            'f': \"1485\",\n        },\n\"No\",\n\"Male\"],\n [{\n            'v': 17,\n            'f': \"17\",\n        },\n{\n            'v': 1500,\n            'f': \"1500\",\n        },\n\"No\",\n\"Female\"],\n [{\n            'v': 18,\n            'f': \"18\",\n        },\n{\n            'v': 1900,\n            'f': \"1900\",\n        },\n\"Yes\",\n\"Male\"]],\n        columns: [[\"number\", \"index\"], [\"number\", \"SAT\"], [\"string\", \"Admitted\"], [\"string\", \"Gender\"]],\n        columnOptions: [{\"width\": \"1px\", \"className\": \"index_column\"}],\n        rowsPerPage: 25,\n        helpUrl: \"https://colab.research.google.com/notebooks/data_table.ipynb\",\n        suppressOutputScrolling: true,\n        minimumWidth: undefined,\n      });\n    ",
            "text/html": [
              "<div>\n",
              "<style scoped>\n",
              "    .dataframe tbody tr th:only-of-type {\n",
              "        vertical-align: middle;\n",
              "    }\n",
              "\n",
              "    .dataframe tbody tr th {\n",
              "        vertical-align: top;\n",
              "    }\n",
              "\n",
              "    .dataframe thead th {\n",
              "        text-align: right;\n",
              "    }\n",
              "</style>\n",
              "<table border=\"1\" class=\"dataframe\">\n",
              "  <thead>\n",
              "    <tr style=\"text-align: right;\">\n",
              "      <th></th>\n",
              "      <th>SAT</th>\n",
              "      <th>Admitted</th>\n",
              "      <th>Gender</th>\n",
              "    </tr>\n",
              "  </thead>\n",
              "  <tbody>\n",
              "    <tr>\n",
              "      <th>0</th>\n",
              "      <td>1323</td>\n",
              "      <td>No</td>\n",
              "      <td>Male</td>\n",
              "    </tr>\n",
              "    <tr>\n",
              "      <th>1</th>\n",
              "      <td>1725</td>\n",
              "      <td>Yes</td>\n",
              "      <td>Female</td>\n",
              "    </tr>\n",
              "    <tr>\n",
              "      <th>2</th>\n",
              "      <td>1762</td>\n",
              "      <td>Yes</td>\n",
              "      <td>Female</td>\n",
              "    </tr>\n",
              "    <tr>\n",
              "      <th>3</th>\n",
              "      <td>1777</td>\n",
              "      <td>Yes</td>\n",
              "      <td>Male</td>\n",
              "    </tr>\n",
              "    <tr>\n",
              "      <th>4</th>\n",
              "      <td>1665</td>\n",
              "      <td>No</td>\n",
              "      <td>Male</td>\n",
              "    </tr>\n",
              "    <tr>\n",
              "      <th>5</th>\n",
              "      <td>1556</td>\n",
              "      <td>Yes</td>\n",
              "      <td>Female</td>\n",
              "    </tr>\n",
              "    <tr>\n",
              "      <th>6</th>\n",
              "      <td>1731</td>\n",
              "      <td>Yes</td>\n",
              "      <td>Female</td>\n",
              "    </tr>\n",
              "    <tr>\n",
              "      <th>7</th>\n",
              "      <td>1809</td>\n",
              "      <td>Yes</td>\n",
              "      <td>Female</td>\n",
              "    </tr>\n",
              "    <tr>\n",
              "      <th>8</th>\n",
              "      <td>1930</td>\n",
              "      <td>Yes</td>\n",
              "      <td>Female</td>\n",
              "    </tr>\n",
              "    <tr>\n",
              "      <th>9</th>\n",
              "      <td>1708</td>\n",
              "      <td>Yes</td>\n",
              "      <td>Male</td>\n",
              "    </tr>\n",
              "    <tr>\n",
              "      <th>10</th>\n",
              "      <td>1970</td>\n",
              "      <td>Yes</td>\n",
              "      <td>Female</td>\n",
              "    </tr>\n",
              "    <tr>\n",
              "      <th>11</th>\n",
              "      <td>2039</td>\n",
              "      <td>Yes</td>\n",
              "      <td>Female</td>\n",
              "    </tr>\n",
              "    <tr>\n",
              "      <th>12</th>\n",
              "      <td>1681</td>\n",
              "      <td>Yes</td>\n",
              "      <td>Female</td>\n",
              "    </tr>\n",
              "    <tr>\n",
              "      <th>13</th>\n",
              "      <td>1444</td>\n",
              "      <td>No</td>\n",
              "      <td>Male</td>\n",
              "    </tr>\n",
              "    <tr>\n",
              "      <th>14</th>\n",
              "      <td>1726</td>\n",
              "      <td>No</td>\n",
              "      <td>Male</td>\n",
              "    </tr>\n",
              "    <tr>\n",
              "      <th>15</th>\n",
              "      <td>1876</td>\n",
              "      <td>Yes</td>\n",
              "      <td>Female</td>\n",
              "    </tr>\n",
              "    <tr>\n",
              "      <th>16</th>\n",
              "      <td>1485</td>\n",
              "      <td>No</td>\n",
              "      <td>Male</td>\n",
              "    </tr>\n",
              "    <tr>\n",
              "      <th>17</th>\n",
              "      <td>1500</td>\n",
              "      <td>No</td>\n",
              "      <td>Female</td>\n",
              "    </tr>\n",
              "    <tr>\n",
              "      <th>18</th>\n",
              "      <td>1900</td>\n",
              "      <td>Yes</td>\n",
              "      <td>Male</td>\n",
              "    </tr>\n",
              "  </tbody>\n",
              "</table>\n",
              "</div>"
            ],
            "text/plain": [
              "     SAT Admitted  Gender\n",
              "0   1323       No    Male\n",
              "1   1725      Yes  Female\n",
              "2   1762      Yes  Female\n",
              "3   1777      Yes    Male\n",
              "4   1665       No    Male\n",
              "5   1556      Yes  Female\n",
              "6   1731      Yes  Female\n",
              "7   1809      Yes  Female\n",
              "8   1930      Yes  Female\n",
              "9   1708      Yes    Male\n",
              "10  1970      Yes  Female\n",
              "11  2039      Yes  Female\n",
              "12  1681      Yes  Female\n",
              "13  1444       No    Male\n",
              "14  1726       No    Male\n",
              "15  1876      Yes  Female\n",
              "16  1485       No    Male\n",
              "17  1500       No  Female\n",
              "18  1900      Yes    Male"
            ]
          },
          "metadata": {
            "tags": []
          }
        },
        {
          "output_type": "display_data",
          "data": {
            "application/vnd.google.colaboratory.module+javascript": "\n      import \"https://ssl.gstatic.com/colaboratory/data_table/a6224c040fa35dcf/data_table.js\";\n\n      window.createDataTable({\n        data: [[\"count\",\n{\n            'v': 19.0,\n            'f': \"19.0\",\n        },\n19,\n19],\n [\"unique\",\n{\n            'v': NaN,\n            'f': \"NaN\",\n        },\n2,\n2],\n [\"top\",\n{\n            'v': NaN,\n            'f': \"NaN\",\n        },\n\"Yes\",\n\"Female\"],\n [\"freq\",\n{\n            'v': NaN,\n            'f': \"NaN\",\n        },\n13,\n11],\n [\"mean\",\n{\n            'v': 1716.157894736842,\n            'f': \"1716.157894736842\",\n        },\nNaN,\nNaN],\n [\"std\",\n{\n            'v': 189.5797290962579,\n            'f': \"189.5797290962579\",\n        },\nNaN,\nNaN],\n [\"min\",\n{\n            'v': 1323.0,\n            'f': \"1323.0\",\n        },\nNaN,\nNaN],\n [\"25%\",\n{\n            'v': 1610.5,\n            'f': \"1610.5\",\n        },\nNaN,\nNaN],\n [\"50%\",\n{\n            'v': 1726.0,\n            'f': \"1726.0\",\n        },\nNaN,\nNaN],\n [\"75%\",\n{\n            'v': 1842.5,\n            'f': \"1842.5\",\n        },\nNaN,\nNaN],\n [\"max\",\n{\n            'v': 2039.0,\n            'f': \"2039.0\",\n        },\nNaN,\nNaN]],\n        columns: [[\"string\", \"index\"], [\"number\", \"SAT\"], [\"string\", \"Admitted\"], [\"string\", \"Gender\"]],\n        columnOptions: [{\"width\": \"1px\", \"className\": \"index_column\"}],\n        rowsPerPage: 25,\n        helpUrl: \"https://colab.research.google.com/notebooks/data_table.ipynb\",\n        suppressOutputScrolling: true,\n        minimumWidth: undefined,\n      });\n    ",
            "text/html": [
              "<div>\n",
              "<style scoped>\n",
              "    .dataframe tbody tr th:only-of-type {\n",
              "        vertical-align: middle;\n",
              "    }\n",
              "\n",
              "    .dataframe tbody tr th {\n",
              "        vertical-align: top;\n",
              "    }\n",
              "\n",
              "    .dataframe thead th {\n",
              "        text-align: right;\n",
              "    }\n",
              "</style>\n",
              "<table border=\"1\" class=\"dataframe\">\n",
              "  <thead>\n",
              "    <tr style=\"text-align: right;\">\n",
              "      <th></th>\n",
              "      <th>SAT</th>\n",
              "      <th>Admitted</th>\n",
              "      <th>Gender</th>\n",
              "    </tr>\n",
              "  </thead>\n",
              "  <tbody>\n",
              "    <tr>\n",
              "      <th>count</th>\n",
              "      <td>19.000000</td>\n",
              "      <td>19</td>\n",
              "      <td>19</td>\n",
              "    </tr>\n",
              "    <tr>\n",
              "      <th>unique</th>\n",
              "      <td>NaN</td>\n",
              "      <td>2</td>\n",
              "      <td>2</td>\n",
              "    </tr>\n",
              "    <tr>\n",
              "      <th>top</th>\n",
              "      <td>NaN</td>\n",
              "      <td>Yes</td>\n",
              "      <td>Female</td>\n",
              "    </tr>\n",
              "    <tr>\n",
              "      <th>freq</th>\n",
              "      <td>NaN</td>\n",
              "      <td>13</td>\n",
              "      <td>11</td>\n",
              "    </tr>\n",
              "    <tr>\n",
              "      <th>mean</th>\n",
              "      <td>1716.157895</td>\n",
              "      <td>NaN</td>\n",
              "      <td>NaN</td>\n",
              "    </tr>\n",
              "    <tr>\n",
              "      <th>std</th>\n",
              "      <td>189.579729</td>\n",
              "      <td>NaN</td>\n",
              "      <td>NaN</td>\n",
              "    </tr>\n",
              "    <tr>\n",
              "      <th>min</th>\n",
              "      <td>1323.000000</td>\n",
              "      <td>NaN</td>\n",
              "      <td>NaN</td>\n",
              "    </tr>\n",
              "    <tr>\n",
              "      <th>25%</th>\n",
              "      <td>1610.500000</td>\n",
              "      <td>NaN</td>\n",
              "      <td>NaN</td>\n",
              "    </tr>\n",
              "    <tr>\n",
              "      <th>50%</th>\n",
              "      <td>1726.000000</td>\n",
              "      <td>NaN</td>\n",
              "      <td>NaN</td>\n",
              "    </tr>\n",
              "    <tr>\n",
              "      <th>75%</th>\n",
              "      <td>1842.500000</td>\n",
              "      <td>NaN</td>\n",
              "      <td>NaN</td>\n",
              "    </tr>\n",
              "    <tr>\n",
              "      <th>max</th>\n",
              "      <td>2039.000000</td>\n",
              "      <td>NaN</td>\n",
              "      <td>NaN</td>\n",
              "    </tr>\n",
              "  </tbody>\n",
              "</table>\n",
              "</div>"
            ],
            "text/plain": [
              "                SAT Admitted  Gender\n",
              "count     19.000000       19      19\n",
              "unique          NaN        2       2\n",
              "top             NaN      Yes  Female\n",
              "freq            NaN       13      11\n",
              "mean    1716.157895      NaN     NaN\n",
              "std      189.579729      NaN     NaN\n",
              "min     1323.000000      NaN     NaN\n",
              "25%     1610.500000      NaN     NaN\n",
              "50%     1726.000000      NaN     NaN\n",
              "75%     1842.500000      NaN     NaN\n",
              "max     2039.000000      NaN     NaN"
            ]
          },
          "metadata": {
            "tags": []
          }
        },
        {
          "output_type": "stream",
          "text": [
            "<class 'pandas.core.frame.DataFrame'>\n",
            "RangeIndex: 19 entries, 0 to 18\n",
            "Data columns (total 3 columns):\n",
            " #   Column    Non-Null Count  Dtype \n",
            "---  ------    --------------  ----- \n",
            " 0   SAT       19 non-null     int64 \n",
            " 1   Admitted  19 non-null     object\n",
            " 2   Gender    19 non-null     object\n",
            "dtypes: int64(1), object(2)\n",
            "memory usage: 584.0+ bytes\n"
          ],
          "name": "stdout"
        },
        {
          "output_type": "display_data",
          "data": {
            "text/plain": [
              "None"
            ]
          },
          "metadata": {
            "tags": []
          }
        }
      ]
    },
    {
      "cell_type": "markdown",
      "metadata": {
        "id": "QEhc9xeP11iH"
      },
      "source": [
        "##前処理"
      ]
    },
    {
      "cell_type": "markdown",
      "metadata": {
        "id": "B8X0pNSl14fM"
      },
      "source": [
        "###カテゴリカルデータを数字へ変換"
      ]
    },
    {
      "cell_type": "markdown",
      "metadata": {
        "id": "1M0kSIZih2gh"
      },
      "source": [
        "####訓練データ"
      ]
    },
    {
      "cell_type": "code",
      "metadata": {
        "colab": {
          "base_uri": "https://localhost:8080/",
          "height": 598
        },
        "id": "OXuNnSX019ex",
        "outputId": "fdd58af5-133b-44bd-f3d1-b63f393a6fd0"
      },
      "source": [
        "train['Admitted (yes=1/no=0)'] = train['Admitted'].map({'Yes':1,'No':0})\n",
        "train['Gender (Female=1/Male=0)'] = train['Gender'].map({'Female':1,'Male':0})\n",
        "train"
      ],
      "execution_count": null,
      "outputs": [
        {
          "output_type": "execute_result",
          "data": {
            "application/vnd.google.colaboratory.module+javascript": "\n      import \"https://ssl.gstatic.com/colaboratory/data_table/a6224c040fa35dcf/data_table.js\";\n\n      window.createDataTable({\n        data: [[{\n            'v': 0,\n            'f': \"0\",\n        },\n{\n            'v': 1363,\n            'f': \"1363\",\n        },\n\"No\",\n\"Male\",\n{\n            'v': 0,\n            'f': \"0\",\n        },\n{\n            'v': 0,\n            'f': \"0\",\n        }],\n [{\n            'v': 1,\n            'f': \"1\",\n        },\n{\n            'v': 1792,\n            'f': \"1792\",\n        },\n\"Yes\",\n\"Female\",\n{\n            'v': 1,\n            'f': \"1\",\n        },\n{\n            'v': 1,\n            'f': \"1\",\n        }],\n [{\n            'v': 2,\n            'f': \"2\",\n        },\n{\n            'v': 1954,\n            'f': \"1954\",\n        },\n\"Yes\",\n\"Female\",\n{\n            'v': 1,\n            'f': \"1\",\n        },\n{\n            'v': 1,\n            'f': \"1\",\n        }],\n [{\n            'v': 3,\n            'f': \"3\",\n        },\n{\n            'v': 1653,\n            'f': \"1653\",\n        },\n\"No\",\n\"Male\",\n{\n            'v': 0,\n            'f': \"0\",\n        },\n{\n            'v': 0,\n            'f': \"0\",\n        }],\n [{\n            'v': 4,\n            'f': \"4\",\n        },\n{\n            'v': 1593,\n            'f': \"1593\",\n        },\n\"No\",\n\"Male\",\n{\n            'v': 0,\n            'f': \"0\",\n        },\n{\n            'v': 0,\n            'f': \"0\",\n        }],\n [{\n            'v': 5,\n            'f': \"5\",\n        },\n{\n            'v': 1755,\n            'f': \"1755\",\n        },\n\"Yes\",\n\"Female\",\n{\n            'v': 1,\n            'f': \"1\",\n        },\n{\n            'v': 1,\n            'f': \"1\",\n        }],\n [{\n            'v': 6,\n            'f': \"6\",\n        },\n{\n            'v': 1775,\n            'f': \"1775\",\n        },\n\"Yes\",\n\"Female\",\n{\n            'v': 1,\n            'f': \"1\",\n        },\n{\n            'v': 1,\n            'f': \"1\",\n        }],\n [{\n            'v': 7,\n            'f': \"7\",\n        },\n{\n            'v': 1887,\n            'f': \"1887\",\n        },\n\"Yes\",\n\"Female\",\n{\n            'v': 1,\n            'f': \"1\",\n        },\n{\n            'v': 1,\n            'f': \"1\",\n        }],\n [{\n            'v': 8,\n            'f': \"8\",\n        },\n{\n            'v': 1893,\n            'f': \"1893\",\n        },\n\"Yes\",\n\"Female\",\n{\n            'v': 1,\n            'f': \"1\",\n        },\n{\n            'v': 1,\n            'f': \"1\",\n        }],\n [{\n            'v': 9,\n            'f': \"9\",\n        },\n{\n            'v': 1580,\n            'f': \"1580\",\n        },\n\"No\",\n\"Male\",\n{\n            'v': 0,\n            'f': \"0\",\n        },\n{\n            'v': 0,\n            'f': \"0\",\n        }],\n [{\n            'v': 10,\n            'f': \"10\",\n        },\n{\n            'v': 1857,\n            'f': \"1857\",\n        },\n\"Yes\",\n\"Female\",\n{\n            'v': 1,\n            'f': \"1\",\n        },\n{\n            'v': 1,\n            'f': \"1\",\n        }],\n [{\n            'v': 11,\n            'f': \"11\",\n        },\n{\n            'v': 1880,\n            'f': \"1880\",\n        },\n\"Yes\",\n\"Female\",\n{\n            'v': 1,\n            'f': \"1\",\n        },\n{\n            'v': 1,\n            'f': \"1\",\n        }],\n [{\n            'v': 12,\n            'f': \"12\",\n        },\n{\n            'v': 1664,\n            'f': \"1664\",\n        },\n\"Yes\",\n\"Female\",\n{\n            'v': 1,\n            'f': \"1\",\n        },\n{\n            'v': 1,\n            'f': \"1\",\n        }],\n [{\n            'v': 13,\n            'f': \"13\",\n        },\n{\n            'v': 1364,\n            'f': \"1364\",\n        },\n\"No\",\n\"Male\",\n{\n            'v': 0,\n            'f': \"0\",\n        },\n{\n            'v': 0,\n            'f': \"0\",\n        }],\n [{\n            'v': 14,\n            'f': \"14\",\n        },\n{\n            'v': 1693,\n            'f': \"1693\",\n        },\n\"No\",\n\"Male\",\n{\n            'v': 0,\n            'f': \"0\",\n        },\n{\n            'v': 0,\n            'f': \"0\",\n        }],\n [{\n            'v': 15,\n            'f': \"15\",\n        },\n{\n            'v': 1850,\n            'f': \"1850\",\n        },\n\"Yes\",\n\"Female\",\n{\n            'v': 1,\n            'f': \"1\",\n        },\n{\n            'v': 1,\n            'f': \"1\",\n        }],\n [{\n            'v': 16,\n            'f': \"16\",\n        },\n{\n            'v': 1633,\n            'f': \"1633\",\n        },\n\"No\",\n\"Male\",\n{\n            'v': 0,\n            'f': \"0\",\n        },\n{\n            'v': 0,\n            'f': \"0\",\n        }],\n [{\n            'v': 17,\n            'f': \"17\",\n        },\n{\n            'v': 1634,\n            'f': \"1634\",\n        },\n\"No\",\n\"Male\",\n{\n            'v': 0,\n            'f': \"0\",\n        },\n{\n            'v': 0,\n            'f': \"0\",\n        }],\n [{\n            'v': 18,\n            'f': \"18\",\n        },\n{\n            'v': 1636,\n            'f': \"1636\",\n        },\n\"Yes\",\n\"Female\",\n{\n            'v': 1,\n            'f': \"1\",\n        },\n{\n            'v': 1,\n            'f': \"1\",\n        }],\n [{\n            'v': 19,\n            'f': \"19\",\n        },\n{\n            'v': 1855,\n            'f': \"1855\",\n        },\n\"Yes\",\n\"Female\",\n{\n            'v': 1,\n            'f': \"1\",\n        },\n{\n            'v': 1,\n            'f': \"1\",\n        }],\n [{\n            'v': 20,\n            'f': \"20\",\n        },\n{\n            'v': 1987,\n            'f': \"1987\",\n        },\n\"Yes\",\n\"Female\",\n{\n            'v': 1,\n            'f': \"1\",\n        },\n{\n            'v': 1,\n            'f': \"1\",\n        }],\n [{\n            'v': 21,\n            'f': \"21\",\n        },\n{\n            'v': 1997,\n            'f': \"1997\",\n        },\n\"Yes\",\n\"Male\",\n{\n            'v': 1,\n            'f': \"1\",\n        },\n{\n            'v': 0,\n            'f': \"0\",\n        }],\n [{\n            'v': 22,\n            'f': \"22\",\n        },\n{\n            'v': 1422,\n            'f': \"1422\",\n        },\n\"No\",\n\"Female\",\n{\n            'v': 0,\n            'f': \"0\",\n        },\n{\n            'v': 1,\n            'f': \"1\",\n        }],\n [{\n            'v': 23,\n            'f': \"23\",\n        },\n{\n            'v': 1508,\n            'f': \"1508\",\n        },\n\"No\",\n\"Female\",\n{\n            'v': 0,\n            'f': \"0\",\n        },\n{\n            'v': 1,\n            'f': \"1\",\n        }],\n [{\n            'v': 24,\n            'f': \"24\",\n        },\n{\n            'v': 1720,\n            'f': \"1720\",\n        },\n\"Yes\",\n\"Female\",\n{\n            'v': 1,\n            'f': \"1\",\n        },\n{\n            'v': 1,\n            'f': \"1\",\n        }],\n [{\n            'v': 25,\n            'f': \"25\",\n        },\n{\n            'v': 1879,\n            'f': \"1879\",\n        },\n\"Yes\",\n\"Male\",\n{\n            'v': 1,\n            'f': \"1\",\n        },\n{\n            'v': 0,\n            'f': \"0\",\n        }],\n [{\n            'v': 26,\n            'f': \"26\",\n        },\n{\n            'v': 1634,\n            'f': \"1634\",\n        },\n\"Yes\",\n\"Female\",\n{\n            'v': 1,\n            'f': \"1\",\n        },\n{\n            'v': 1,\n            'f': \"1\",\n        }],\n [{\n            'v': 27,\n            'f': \"27\",\n        },\n{\n            'v': 1802,\n            'f': \"1802\",\n        },\n\"Yes\",\n\"Male\",\n{\n            'v': 1,\n            'f': \"1\",\n        },\n{\n            'v': 0,\n            'f': \"0\",\n        }],\n [{\n            'v': 28,\n            'f': \"28\",\n        },\n{\n            'v': 1849,\n            'f': \"1849\",\n        },\n\"Yes\",\n\"Female\",\n{\n            'v': 1,\n            'f': \"1\",\n        },\n{\n            'v': 1,\n            'f': \"1\",\n        }],\n [{\n            'v': 29,\n            'f': \"29\",\n        },\n{\n            'v': 1764,\n            'f': \"1764\",\n        },\n\"Yes\",\n\"Female\",\n{\n            'v': 1,\n            'f': \"1\",\n        },\n{\n            'v': 1,\n            'f': \"1\",\n        }],\n [{\n            'v': 30,\n            'f': \"30\",\n        },\n{\n            'v': 1460,\n            'f': \"1460\",\n        },\n\"No\",\n\"Male\",\n{\n            'v': 0,\n            'f': \"0\",\n        },\n{\n            'v': 0,\n            'f': \"0\",\n        }],\n [{\n            'v': 31,\n            'f': \"31\",\n        },\n{\n            'v': 1675,\n            'f': \"1675\",\n        },\n\"Yes\",\n\"Female\",\n{\n            'v': 1,\n            'f': \"1\",\n        },\n{\n            'v': 1,\n            'f': \"1\",\n        }],\n [{\n            'v': 32,\n            'f': \"32\",\n        },\n{\n            'v': 1656,\n            'f': \"1656\",\n        },\n\"No\",\n\"Male\",\n{\n            'v': 0,\n            'f': \"0\",\n        },\n{\n            'v': 0,\n            'f': \"0\",\n        }],\n [{\n            'v': 33,\n            'f': \"33\",\n        },\n{\n            'v': 2020,\n            'f': \"2020\",\n        },\n\"Yes\",\n\"Male\",\n{\n            'v': 1,\n            'f': \"1\",\n        },\n{\n            'v': 0,\n            'f': \"0\",\n        }],\n [{\n            'v': 34,\n            'f': \"34\",\n        },\n{\n            'v': 1850,\n            'f': \"1850\",\n        },\n\"Yes\",\n\"Male\",\n{\n            'v': 1,\n            'f': \"1\",\n        },\n{\n            'v': 0,\n            'f': \"0\",\n        }],\n [{\n            'v': 35,\n            'f': \"35\",\n        },\n{\n            'v': 1865,\n            'f': \"1865\",\n        },\n\"Yes\",\n\"Male\",\n{\n            'v': 1,\n            'f': \"1\",\n        },\n{\n            'v': 0,\n            'f': \"0\",\n        }],\n [{\n            'v': 36,\n            'f': \"36\",\n        },\n{\n            'v': 1664,\n            'f': \"1664\",\n        },\n\"No\",\n\"Male\",\n{\n            'v': 0,\n            'f': \"0\",\n        },\n{\n            'v': 0,\n            'f': \"0\",\n        }],\n [{\n            'v': 37,\n            'f': \"37\",\n        },\n{\n            'v': 1872,\n            'f': \"1872\",\n        },\n\"Yes\",\n\"Female\",\n{\n            'v': 1,\n            'f': \"1\",\n        },\n{\n            'v': 1,\n            'f': \"1\",\n        }],\n [{\n            'v': 38,\n            'f': \"38\",\n        },\n{\n            'v': 1654,\n            'f': \"1654\",\n        },\n\"No\",\n\"Male\",\n{\n            'v': 0,\n            'f': \"0\",\n        },\n{\n            'v': 0,\n            'f': \"0\",\n        }],\n [{\n            'v': 39,\n            'f': \"39\",\n        },\n{\n            'v': 1393,\n            'f': \"1393\",\n        },\n\"No\",\n\"Female\",\n{\n            'v': 0,\n            'f': \"0\",\n        },\n{\n            'v': 1,\n            'f': \"1\",\n        }],\n [{\n            'v': 40,\n            'f': \"40\",\n        },\n{\n            'v': 1587,\n            'f': \"1587\",\n        },\n\"No\",\n\"Male\",\n{\n            'v': 0,\n            'f': \"0\",\n        },\n{\n            'v': 0,\n            'f': \"0\",\n        }],\n [{\n            'v': 41,\n            'f': \"41\",\n        },\n{\n            'v': 1631,\n            'f': \"1631\",\n        },\n\"Yes\",\n\"Female\",\n{\n            'v': 1,\n            'f': \"1\",\n        },\n{\n            'v': 1,\n            'f': \"1\",\n        }],\n [{\n            'v': 42,\n            'f': \"42\",\n        },\n{\n            'v': 1931,\n            'f': \"1931\",\n        },\n\"Yes\",\n\"Male\",\n{\n            'v': 1,\n            'f': \"1\",\n        },\n{\n            'v': 0,\n            'f': \"0\",\n        }],\n [{\n            'v': 43,\n            'f': \"43\",\n        },\n{\n            'v': 1370,\n            'f': \"1370\",\n        },\n\"No\",\n\"Male\",\n{\n            'v': 0,\n            'f': \"0\",\n        },\n{\n            'v': 0,\n            'f': \"0\",\n        }],\n [{\n            'v': 44,\n            'f': \"44\",\n        },\n{\n            'v': 1810,\n            'f': \"1810\",\n        },\n\"Yes\",\n\"Male\",\n{\n            'v': 1,\n            'f': \"1\",\n        },\n{\n            'v': 0,\n            'f': \"0\",\n        }],\n [{\n            'v': 45,\n            'f': \"45\",\n        },\n{\n            'v': 1414,\n            'f': \"1414\",\n        },\n\"No\",\n\"Male\",\n{\n            'v': 0,\n            'f': \"0\",\n        },\n{\n            'v': 0,\n            'f': \"0\",\n        }],\n [{\n            'v': 46,\n            'f': \"46\",\n        },\n{\n            'v': 1761,\n            'f': \"1761\",\n        },\n\"Yes\",\n\"Female\",\n{\n            'v': 1,\n            'f': \"1\",\n        },\n{\n            'v': 1,\n            'f': \"1\",\n        }],\n [{\n            'v': 47,\n            'f': \"47\",\n        },\n{\n            'v': 1477,\n            'f': \"1477\",\n        },\n\"No\",\n\"Male\",\n{\n            'v': 0,\n            'f': \"0\",\n        },\n{\n            'v': 0,\n            'f': \"0\",\n        }],\n [{\n            'v': 48,\n            'f': \"48\",\n        },\n{\n            'v': 1486,\n            'f': \"1486\",\n        },\n\"No\",\n\"Male\",\n{\n            'v': 0,\n            'f': \"0\",\n        },\n{\n            'v': 0,\n            'f': \"0\",\n        }],\n [{\n            'v': 49,\n            'f': \"49\",\n        },\n{\n            'v': 1561,\n            'f': \"1561\",\n        },\n\"No\",\n\"Male\",\n{\n            'v': 0,\n            'f': \"0\",\n        },\n{\n            'v': 0,\n            'f': \"0\",\n        }],\n [{\n            'v': 50,\n            'f': \"50\",\n        },\n{\n            'v': 1549,\n            'f': \"1549\",\n        },\n\"No\",\n\"Male\",\n{\n            'v': 0,\n            'f': \"0\",\n        },\n{\n            'v': 0,\n            'f': \"0\",\n        }],\n [{\n            'v': 51,\n            'f': \"51\",\n        },\n{\n            'v': 2050,\n            'f': \"2050\",\n        },\n\"Yes\",\n\"Male\",\n{\n            'v': 1,\n            'f': \"1\",\n        },\n{\n            'v': 0,\n            'f': \"0\",\n        }],\n [{\n            'v': 52,\n            'f': \"52\",\n        },\n{\n            'v': 1697,\n            'f': \"1697\",\n        },\n\"No\",\n\"Female\",\n{\n            'v': 0,\n            'f': \"0\",\n        },\n{\n            'v': 1,\n            'f': \"1\",\n        }],\n [{\n            'v': 53,\n            'f': \"53\",\n        },\n{\n            'v': 1543,\n            'f': \"1543\",\n        },\n\"No\",\n\"Female\",\n{\n            'v': 0,\n            'f': \"0\",\n        },\n{\n            'v': 1,\n            'f': \"1\",\n        }],\n [{\n            'v': 54,\n            'f': \"54\",\n        },\n{\n            'v': 1934,\n            'f': \"1934\",\n        },\n\"Yes\",\n\"Female\",\n{\n            'v': 1,\n            'f': \"1\",\n        },\n{\n            'v': 1,\n            'f': \"1\",\n        }],\n [{\n            'v': 55,\n            'f': \"55\",\n        },\n{\n            'v': 1385,\n            'f': \"1385\",\n        },\n\"No\",\n\"Male\",\n{\n            'v': 0,\n            'f': \"0\",\n        },\n{\n            'v': 0,\n            'f': \"0\",\n        }],\n [{\n            'v': 56,\n            'f': \"56\",\n        },\n{\n            'v': 1670,\n            'f': \"1670\",\n        },\n\"No\",\n\"Male\",\n{\n            'v': 0,\n            'f': \"0\",\n        },\n{\n            'v': 0,\n            'f': \"0\",\n        }],\n [{\n            'v': 57,\n            'f': \"57\",\n        },\n{\n            'v': 1735,\n            'f': \"1735\",\n        },\n\"Yes\",\n\"Female\",\n{\n            'v': 1,\n            'f': \"1\",\n        },\n{\n            'v': 1,\n            'f': \"1\",\n        }],\n [{\n            'v': 58,\n            'f': \"58\",\n        },\n{\n            'v': 1634,\n            'f': \"1634\",\n        },\n\"No\",\n\"Male\",\n{\n            'v': 0,\n            'f': \"0\",\n        },\n{\n            'v': 0,\n            'f': \"0\",\n        }],\n [{\n            'v': 59,\n            'f': \"59\",\n        },\n{\n            'v': 1777,\n            'f': \"1777\",\n        },\n\"Yes\",\n\"Female\",\n{\n            'v': 1,\n            'f': \"1\",\n        },\n{\n            'v': 1,\n            'f': \"1\",\n        }],\n [{\n            'v': 60,\n            'f': \"60\",\n        },\n{\n            'v': 1550,\n            'f': \"1550\",\n        },\n\"No\",\n\"Male\",\n{\n            'v': 0,\n            'f': \"0\",\n        },\n{\n            'v': 0,\n            'f': \"0\",\n        }],\n [{\n            'v': 61,\n            'f': \"61\",\n        },\n{\n            'v': 1715,\n            'f': \"1715\",\n        },\n\"Yes\",\n\"Male\",\n{\n            'v': 1,\n            'f': \"1\",\n        },\n{\n            'v': 0,\n            'f': \"0\",\n        }],\n [{\n            'v': 62,\n            'f': \"62\",\n        },\n{\n            'v': 1925,\n            'f': \"1925\",\n        },\n\"Yes\",\n\"Female\",\n{\n            'v': 1,\n            'f': \"1\",\n        },\n{\n            'v': 1,\n            'f': \"1\",\n        }],\n [{\n            'v': 63,\n            'f': \"63\",\n        },\n{\n            'v': 1842,\n            'f': \"1842\",\n        },\n\"Yes\",\n\"Male\",\n{\n            'v': 1,\n            'f': \"1\",\n        },\n{\n            'v': 0,\n            'f': \"0\",\n        }],\n [{\n            'v': 64,\n            'f': \"64\",\n        },\n{\n            'v': 1786,\n            'f': \"1786\",\n        },\n\"Yes\",\n\"Male\",\n{\n            'v': 1,\n            'f': \"1\",\n        },\n{\n            'v': 0,\n            'f': \"0\",\n        }],\n [{\n            'v': 65,\n            'f': \"65\",\n        },\n{\n            'v': 1435,\n            'f': \"1435\",\n        },\n\"No\",\n\"Male\",\n{\n            'v': 0,\n            'f': \"0\",\n        },\n{\n            'v': 0,\n            'f': \"0\",\n        }],\n [{\n            'v': 66,\n            'f': \"66\",\n        },\n{\n            'v': 1387,\n            'f': \"1387\",\n        },\n\"No\",\n\"Male\",\n{\n            'v': 0,\n            'f': \"0\",\n        },\n{\n            'v': 0,\n            'f': \"0\",\n        }],\n [{\n            'v': 67,\n            'f': \"67\",\n        },\n{\n            'v': 1521,\n            'f': \"1521\",\n        },\n\"No\",\n\"Male\",\n{\n            'v': 0,\n            'f': \"0\",\n        },\n{\n            'v': 0,\n            'f': \"0\",\n        }],\n [{\n            'v': 68,\n            'f': \"68\",\n        },\n{\n            'v': 1975,\n            'f': \"1975\",\n        },\n\"Yes\",\n\"Female\",\n{\n            'v': 1,\n            'f': \"1\",\n        },\n{\n            'v': 1,\n            'f': \"1\",\n        }],\n [{\n            'v': 69,\n            'f': \"69\",\n        },\n{\n            'v': 1435,\n            'f': \"1435\",\n        },\n\"No\",\n\"Male\",\n{\n            'v': 0,\n            'f': \"0\",\n        },\n{\n            'v': 0,\n            'f': \"0\",\n        }],\n [{\n            'v': 70,\n            'f': \"70\",\n        },\n{\n            'v': 1714,\n            'f': \"1714\",\n        },\n\"Yes\",\n\"Male\",\n{\n            'v': 1,\n            'f': \"1\",\n        },\n{\n            'v': 0,\n            'f': \"0\",\n        }],\n [{\n            'v': 71,\n            'f': \"71\",\n        },\n{\n            'v': 1634,\n            'f': \"1634\",\n        },\n\"Yes\",\n\"Male\",\n{\n            'v': 1,\n            'f': \"1\",\n        },\n{\n            'v': 0,\n            'f': \"0\",\n        }],\n [{\n            'v': 72,\n            'f': \"72\",\n        },\n{\n            'v': 1464,\n            'f': \"1464\",\n        },\n\"No\",\n\"Female\",\n{\n            'v': 0,\n            'f': \"0\",\n        },\n{\n            'v': 1,\n            'f': \"1\",\n        }],\n [{\n            'v': 73,\n            'f': \"73\",\n        },\n{\n            'v': 1794,\n            'f': \"1794\",\n        },\n\"Yes\",\n\"Male\",\n{\n            'v': 1,\n            'f': \"1\",\n        },\n{\n            'v': 0,\n            'f': \"0\",\n        }],\n [{\n            'v': 74,\n            'f': \"74\",\n        },\n{\n            'v': 1855,\n            'f': \"1855\",\n        },\n\"Yes\",\n\"Male\",\n{\n            'v': 1,\n            'f': \"1\",\n        },\n{\n            'v': 0,\n            'f': \"0\",\n        }],\n [{\n            'v': 75,\n            'f': \"75\",\n        },\n{\n            'v': 1953,\n            'f': \"1953\",\n        },\n\"Yes\",\n\"Male\",\n{\n            'v': 1,\n            'f': \"1\",\n        },\n{\n            'v': 0,\n            'f': \"0\",\n        }],\n [{\n            'v': 76,\n            'f': \"76\",\n        },\n{\n            'v': 1469,\n            'f': \"1469\",\n        },\n\"No\",\n\"Male\",\n{\n            'v': 0,\n            'f': \"0\",\n        },\n{\n            'v': 0,\n            'f': \"0\",\n        }],\n [{\n            'v': 77,\n            'f': \"77\",\n        },\n{\n            'v': 1663,\n            'f': \"1663\",\n        },\n\"Yes\",\n\"Male\",\n{\n            'v': 1,\n            'f': \"1\",\n        },\n{\n            'v': 0,\n            'f': \"0\",\n        }],\n [{\n            'v': 78,\n            'f': \"78\",\n        },\n{\n            'v': 1907,\n            'f': \"1907\",\n        },\n\"Yes\",\n\"Female\",\n{\n            'v': 1,\n            'f': \"1\",\n        },\n{\n            'v': 1,\n            'f': \"1\",\n        }],\n [{\n            'v': 79,\n            'f': \"79\",\n        },\n{\n            'v': 1990,\n            'f': \"1990\",\n        },\n\"Yes\",\n\"Female\",\n{\n            'v': 1,\n            'f': \"1\",\n        },\n{\n            'v': 1,\n            'f': \"1\",\n        }],\n [{\n            'v': 80,\n            'f': \"80\",\n        },\n{\n            'v': 1542,\n            'f': \"1542\",\n        },\n\"No\",\n\"Male\",\n{\n            'v': 0,\n            'f': \"0\",\n        },\n{\n            'v': 0,\n            'f': \"0\",\n        }],\n [{\n            'v': 81,\n            'f': \"81\",\n        },\n{\n            'v': 1808,\n            'f': \"1808\",\n        },\n\"Yes\",\n\"Female\",\n{\n            'v': 1,\n            'f': \"1\",\n        },\n{\n            'v': 1,\n            'f': \"1\",\n        }],\n [{\n            'v': 82,\n            'f': \"82\",\n        },\n{\n            'v': 1966,\n            'f': \"1966\",\n        },\n\"Yes\",\n\"Female\",\n{\n            'v': 1,\n            'f': \"1\",\n        },\n{\n            'v': 1,\n            'f': \"1\",\n        }],\n [{\n            'v': 83,\n            'f': \"83\",\n        },\n{\n            'v': 1679,\n            'f': \"1679\",\n        },\n\"No\",\n\"Female\",\n{\n            'v': 0,\n            'f': \"0\",\n        },\n{\n            'v': 1,\n            'f': \"1\",\n        }],\n [{\n            'v': 84,\n            'f': \"84\",\n        },\n{\n            'v': 2021,\n            'f': \"2021\",\n        },\n\"Yes\",\n\"Female\",\n{\n            'v': 1,\n            'f': \"1\",\n        },\n{\n            'v': 1,\n            'f': \"1\",\n        }],\n [{\n            'v': 85,\n            'f': \"85\",\n        },\n{\n            'v': 2015,\n            'f': \"2015\",\n        },\n\"Yes\",\n\"Female\",\n{\n            'v': 1,\n            'f': \"1\",\n        },\n{\n            'v': 1,\n            'f': \"1\",\n        }],\n [{\n            'v': 86,\n            'f': \"86\",\n        },\n{\n            'v': 1473,\n            'f': \"1473\",\n        },\n\"No\",\n\"Male\",\n{\n            'v': 0,\n            'f': \"0\",\n        },\n{\n            'v': 0,\n            'f': \"0\",\n        }],\n [{\n            'v': 87,\n            'f': \"87\",\n        },\n{\n            'v': 1979,\n            'f': \"1979\",\n        },\n\"Yes\",\n\"Male\",\n{\n            'v': 1,\n            'f': \"1\",\n        },\n{\n            'v': 0,\n            'f': \"0\",\n        }],\n [{\n            'v': 88,\n            'f': \"88\",\n        },\n{\n            'v': 1787,\n            'f': \"1787\",\n        },\n\"Yes\",\n\"Female\",\n{\n            'v': 1,\n            'f': \"1\",\n        },\n{\n            'v': 1,\n            'f': \"1\",\n        }],\n [{\n            'v': 89,\n            'f': \"89\",\n        },\n{\n            'v': 1687,\n            'f': \"1687\",\n        },\n\"Yes\",\n\"Female\",\n{\n            'v': 1,\n            'f': \"1\",\n        },\n{\n            'v': 1,\n            'f': \"1\",\n        }],\n [{\n            'v': 90,\n            'f': \"90\",\n        },\n{\n            'v': 1674,\n            'f': \"1674\",\n        },\n\"No\",\n\"Female\",\n{\n            'v': 0,\n            'f': \"0\",\n        },\n{\n            'v': 1,\n            'f': \"1\",\n        }],\n [{\n            'v': 91,\n            'f': \"91\",\n        },\n{\n            'v': 1478,\n            'f': \"1478\",\n        },\n\"No\",\n\"Female\",\n{\n            'v': 0,\n            'f': \"0\",\n        },\n{\n            'v': 1,\n            'f': \"1\",\n        }],\n [{\n            'v': 92,\n            'f': \"92\",\n        },\n{\n            'v': 1735,\n            'f': \"1735\",\n        },\n\"Yes\",\n\"Female\",\n{\n            'v': 1,\n            'f': \"1\",\n        },\n{\n            'v': 1,\n            'f': \"1\",\n        }],\n [{\n            'v': 93,\n            'f': \"93\",\n        },\n{\n            'v': 1720,\n            'f': \"1720\",\n        },\n\"Yes\",\n\"Female\",\n{\n            'v': 1,\n            'f': \"1\",\n        },\n{\n            'v': 1,\n            'f': \"1\",\n        }],\n [{\n            'v': 94,\n            'f': \"94\",\n        },\n{\n            'v': 1494,\n            'f': \"1494\",\n        },\n\"No\",\n\"Male\",\n{\n            'v': 0,\n            'f': \"0\",\n        },\n{\n            'v': 0,\n            'f': \"0\",\n        }],\n [{\n            'v': 95,\n            'f': \"95\",\n        },\n{\n            'v': 1964,\n            'f': \"1964\",\n        },\n\"Yes\",\n\"Male\",\n{\n            'v': 1,\n            'f': \"1\",\n        },\n{\n            'v': 0,\n            'f': \"0\",\n        }],\n [{\n            'v': 96,\n            'f': \"96\",\n        },\n{\n            'v': 1843,\n            'f': \"1843\",\n        },\n\"Yes\",\n\"Female\",\n{\n            'v': 1,\n            'f': \"1\",\n        },\n{\n            'v': 1,\n            'f': \"1\",\n        }],\n [{\n            'v': 97,\n            'f': \"97\",\n        },\n{\n            'v': 1550,\n            'f': \"1550\",\n        },\n\"No\",\n\"Female\",\n{\n            'v': 0,\n            'f': \"0\",\n        },\n{\n            'v': 1,\n            'f': \"1\",\n        }],\n [{\n            'v': 98,\n            'f': \"98\",\n        },\n{\n            'v': 1764,\n            'f': \"1764\",\n        },\n\"Yes\",\n\"Female\",\n{\n            'v': 1,\n            'f': \"1\",\n        },\n{\n            'v': 1,\n            'f': \"1\",\n        }],\n [{\n            'v': 99,\n            'f': \"99\",\n        },\n{\n            'v': 1712,\n            'f': \"1712\",\n        },\n\"Yes\",\n\"Female\",\n{\n            'v': 1,\n            'f': \"1\",\n        },\n{\n            'v': 1,\n            'f': \"1\",\n        }],\n [{\n            'v': 100,\n            'f': \"100\",\n        },\n{\n            'v': 1775,\n            'f': \"1775\",\n        },\n\"Yes\",\n\"Female\",\n{\n            'v': 1,\n            'f': \"1\",\n        },\n{\n            'v': 1,\n            'f': \"1\",\n        }],\n [{\n            'v': 101,\n            'f': \"101\",\n        },\n{\n            'v': 1531,\n            'f': \"1531\",\n        },\n\"No\",\n\"Male\",\n{\n            'v': 0,\n            'f': \"0\",\n        },\n{\n            'v': 0,\n            'f': \"0\",\n        }],\n [{\n            'v': 102,\n            'f': \"102\",\n        },\n{\n            'v': 1781,\n            'f': \"1781\",\n        },\n\"Yes\",\n\"Female\",\n{\n            'v': 1,\n            'f': \"1\",\n        },\n{\n            'v': 1,\n            'f': \"1\",\n        }],\n [{\n            'v': 103,\n            'f': \"103\",\n        },\n{\n            'v': 1579,\n            'f': \"1579\",\n        },\n\"No\",\n\"Male\",\n{\n            'v': 0,\n            'f': \"0\",\n        },\n{\n            'v': 0,\n            'f': \"0\",\n        }],\n [{\n            'v': 104,\n            'f': \"104\",\n        },\n{\n            'v': 1526,\n            'f': \"1526\",\n        },\n\"No\",\n\"Female\",\n{\n            'v': 0,\n            'f': \"0\",\n        },\n{\n            'v': 1,\n            'f': \"1\",\n        }],\n [{\n            'v': 105,\n            'f': \"105\",\n        },\n{\n            'v': 1778,\n            'f': \"1778\",\n        },\n\"Yes\",\n\"Female\",\n{\n            'v': 1,\n            'f': \"1\",\n        },\n{\n            'v': 1,\n            'f': \"1\",\n        }],\n [{\n            'v': 106,\n            'f': \"106\",\n        },\n{\n            'v': 1769,\n            'f': \"1769\",\n        },\n\"Yes\",\n\"Female\",\n{\n            'v': 1,\n            'f': \"1\",\n        },\n{\n            'v': 1,\n            'f': \"1\",\n        }],\n [{\n            'v': 107,\n            'f': \"107\",\n        },\n{\n            'v': 1824,\n            'f': \"1824\",\n        },\n\"Yes\",\n\"Female\",\n{\n            'v': 1,\n            'f': \"1\",\n        },\n{\n            'v': 1,\n            'f': \"1\",\n        }],\n [{\n            'v': 108,\n            'f': \"108\",\n        },\n{\n            'v': 1481,\n            'f': \"1481\",\n        },\n\"No\",\n\"Male\",\n{\n            'v': 0,\n            'f': \"0\",\n        },\n{\n            'v': 0,\n            'f': \"0\",\n        }],\n [{\n            'v': 109,\n            'f': \"109\",\n        },\n{\n            'v': 1464,\n            'f': \"1464\",\n        },\n\"No\",\n\"Male\",\n{\n            'v': 0,\n            'f': \"0\",\n        },\n{\n            'v': 0,\n            'f': \"0\",\n        }],\n [{\n            'v': 110,\n            'f': \"110\",\n        },\n{\n            'v': 1591,\n            'f': \"1591\",\n        },\n\"No\",\n\"Male\",\n{\n            'v': 0,\n            'f': \"0\",\n        },\n{\n            'v': 0,\n            'f': \"0\",\n        }],\n [{\n            'v': 111,\n            'f': \"111\",\n        },\n{\n            'v': 1666,\n            'f': \"1666\",\n        },\n\"No\",\n\"Male\",\n{\n            'v': 0,\n            'f': \"0\",\n        },\n{\n            'v': 0,\n            'f': \"0\",\n        }],\n [{\n            'v': 112,\n            'f': \"112\",\n        },\n{\n            'v': 1455,\n            'f': \"1455\",\n        },\n\"No\",\n\"Male\",\n{\n            'v': 0,\n            'f': \"0\",\n        },\n{\n            'v': 0,\n            'f': \"0\",\n        }],\n [{\n            'v': 113,\n            'f': \"113\",\n        },\n{\n            'v': 1934,\n            'f': \"1934\",\n        },\n\"Yes\",\n\"Female\",\n{\n            'v': 1,\n            'f': \"1\",\n        },\n{\n            'v': 1,\n            'f': \"1\",\n        }],\n [{\n            'v': 114,\n            'f': \"114\",\n        },\n{\n            'v': 1625,\n            'f': \"1625\",\n        },\n\"No\",\n\"Male\",\n{\n            'v': 0,\n            'f': \"0\",\n        },\n{\n            'v': 0,\n            'f': \"0\",\n        }],\n [{\n            'v': 115,\n            'f': \"115\",\n        },\n{\n            'v': 1334,\n            'f': \"1334\",\n        },\n\"No\",\n\"Male\",\n{\n            'v': 0,\n            'f': \"0\",\n        },\n{\n            'v': 0,\n            'f': \"0\",\n        }],\n [{\n            'v': 116,\n            'f': \"116\",\n        },\n{\n            'v': 1721,\n            'f': \"1721\",\n        },\n\"Yes\",\n\"Female\",\n{\n            'v': 1,\n            'f': \"1\",\n        },\n{\n            'v': 1,\n            'f': \"1\",\n        }],\n [{\n            'v': 117,\n            'f': \"117\",\n        },\n{\n            'v': 1475,\n            'f': \"1475\",\n        },\n\"No\",\n\"Male\",\n{\n            'v': 0,\n            'f': \"0\",\n        },\n{\n            'v': 0,\n            'f': \"0\",\n        }],\n [{\n            'v': 118,\n            'f': \"118\",\n        },\n{\n            'v': 1662,\n            'f': \"1662\",\n        },\n\"Yes\",\n\"Female\",\n{\n            'v': 1,\n            'f': \"1\",\n        },\n{\n            'v': 1,\n            'f': \"1\",\n        }],\n [{\n            'v': 119,\n            'f': \"119\",\n        },\n{\n            'v': 1861,\n            'f': \"1861\",\n        },\n\"Yes\",\n\"Female\",\n{\n            'v': 1,\n            'f': \"1\",\n        },\n{\n            'v': 1,\n            'f': \"1\",\n        }],\n [{\n            'v': 120,\n            'f': \"120\",\n        },\n{\n            'v': 1936,\n            'f': \"1936\",\n        },\n\"Yes\",\n\"Female\",\n{\n            'v': 1,\n            'f': \"1\",\n        },\n{\n            'v': 1,\n            'f': \"1\",\n        }],\n [{\n            'v': 121,\n            'f': \"121\",\n        },\n{\n            'v': 1572,\n            'f': \"1572\",\n        },\n\"No\",\n\"Male\",\n{\n            'v': 0,\n            'f': \"0\",\n        },\n{\n            'v': 0,\n            'f': \"0\",\n        }],\n [{\n            'v': 122,\n            'f': \"122\",\n        },\n{\n            'v': 1508,\n            'f': \"1508\",\n        },\n\"No\",\n\"Female\",\n{\n            'v': 0,\n            'f': \"0\",\n        },\n{\n            'v': 1,\n            'f': \"1\",\n        }],\n [{\n            'v': 123,\n            'f': \"123\",\n        },\n{\n            'v': 1430,\n            'f': \"1430\",\n        },\n\"No\",\n\"Male\",\n{\n            'v': 0,\n            'f': \"0\",\n        },\n{\n            'v': 0,\n            'f': \"0\",\n        }],\n [{\n            'v': 124,\n            'f': \"124\",\n        },\n{\n            'v': 1891,\n            'f': \"1891\",\n        },\n\"Yes\",\n\"Female\",\n{\n            'v': 1,\n            'f': \"1\",\n        },\n{\n            'v': 1,\n            'f': \"1\",\n        }],\n [{\n            'v': 125,\n            'f': \"125\",\n        },\n{\n            'v': 1550,\n            'f': \"1550\",\n        },\n\"No\",\n\"Male\",\n{\n            'v': 0,\n            'f': \"0\",\n        },\n{\n            'v': 0,\n            'f': \"0\",\n        }],\n [{\n            'v': 126,\n            'f': \"126\",\n        },\n{\n            'v': 1741,\n            'f': \"1741\",\n        },\n\"Yes\",\n\"Female\",\n{\n            'v': 1,\n            'f': \"1\",\n        },\n{\n            'v': 1,\n            'f': \"1\",\n        }],\n [{\n            'v': 127,\n            'f': \"127\",\n        },\n{\n            'v': 1690,\n            'f': \"1690\",\n        },\n\"No\",\n\"Male\",\n{\n            'v': 0,\n            'f': \"0\",\n        },\n{\n            'v': 0,\n            'f': \"0\",\n        }],\n [{\n            'v': 128,\n            'f': \"128\",\n        },\n{\n            'v': 1687,\n            'f': \"1687\",\n        },\n\"Yes\",\n\"Male\",\n{\n            'v': 1,\n            'f': \"1\",\n        },\n{\n            'v': 0,\n            'f': \"0\",\n        }],\n [{\n            'v': 129,\n            'f': \"129\",\n        },\n{\n            'v': 1730,\n            'f': \"1730\",\n        },\n\"Yes\",\n\"Male\",\n{\n            'v': 1,\n            'f': \"1\",\n        },\n{\n            'v': 0,\n            'f': \"0\",\n        }],\n [{\n            'v': 130,\n            'f': \"130\",\n        },\n{\n            'v': 1674,\n            'f': \"1674\",\n        },\n\"Yes\",\n\"Female\",\n{\n            'v': 1,\n            'f': \"1\",\n        },\n{\n            'v': 1,\n            'f': \"1\",\n        }],\n [{\n            'v': 131,\n            'f': \"131\",\n        },\n{\n            'v': 1475,\n            'f': \"1475\",\n        },\n\"No\",\n\"Male\",\n{\n            'v': 0,\n            'f': \"0\",\n        },\n{\n            'v': 0,\n            'f': \"0\",\n        }],\n [{\n            'v': 132,\n            'f': \"132\",\n        },\n{\n            'v': 1962,\n            'f': \"1962\",\n        },\n\"Yes\",\n\"Female\",\n{\n            'v': 1,\n            'f': \"1\",\n        },\n{\n            'v': 1,\n            'f': \"1\",\n        }],\n [{\n            'v': 133,\n            'f': \"133\",\n        },\n{\n            'v': 1532,\n            'f': \"1532\",\n        },\n\"No\",\n\"Male\",\n{\n            'v': 0,\n            'f': \"0\",\n        },\n{\n            'v': 0,\n            'f': \"0\",\n        }],\n [{\n            'v': 134,\n            'f': \"134\",\n        },\n{\n            'v': 1492,\n            'f': \"1492\",\n        },\n\"No\",\n\"Male\",\n{\n            'v': 0,\n            'f': \"0\",\n        },\n{\n            'v': 0,\n            'f': \"0\",\n        }],\n [{\n            'v': 135,\n            'f': \"135\",\n        },\n{\n            'v': 1502,\n            'f': \"1502\",\n        },\n\"No\",\n\"Male\",\n{\n            'v': 0,\n            'f': \"0\",\n        },\n{\n            'v': 0,\n            'f': \"0\",\n        }],\n [{\n            'v': 136,\n            'f': \"136\",\n        },\n{\n            'v': 1974,\n            'f': \"1974\",\n        },\n\"Yes\",\n\"Female\",\n{\n            'v': 1,\n            'f': \"1\",\n        },\n{\n            'v': 1,\n            'f': \"1\",\n        }],\n [{\n            'v': 137,\n            'f': \"137\",\n        },\n{\n            'v': 1607,\n            'f': \"1607\",\n        },\n\"No\",\n\"Male\",\n{\n            'v': 0,\n            'f': \"0\",\n        },\n{\n            'v': 0,\n            'f': \"0\",\n        }],\n [{\n            'v': 138,\n            'f': \"138\",\n        },\n{\n            'v': 1412,\n            'f': \"1412\",\n        },\n\"No\",\n\"Female\",\n{\n            'v': 0,\n            'f': \"0\",\n        },\n{\n            'v': 1,\n            'f': \"1\",\n        }],\n [{\n            'v': 139,\n            'f': \"139\",\n        },\n{\n            'v': 1557,\n            'f': \"1557\",\n        },\n\"No\",\n\"Male\",\n{\n            'v': 0,\n            'f': \"0\",\n        },\n{\n            'v': 0,\n            'f': \"0\",\n        }],\n [{\n            'v': 140,\n            'f': \"140\",\n        },\n{\n            'v': 1821,\n            'f': \"1821\",\n        },\n\"Yes\",\n\"Male\",\n{\n            'v': 1,\n            'f': \"1\",\n        },\n{\n            'v': 0,\n            'f': \"0\",\n        }],\n [{\n            'v': 141,\n            'f': \"141\",\n        },\n{\n            'v': 1760,\n            'f': \"1760\",\n        },\n\"Yes\",\n\"Female\",\n{\n            'v': 1,\n            'f': \"1\",\n        },\n{\n            'v': 1,\n            'f': \"1\",\n        }],\n [{\n            'v': 142,\n            'f': \"142\",\n        },\n{\n            'v': 1685,\n            'f': \"1685\",\n        },\n\"Yes\",\n\"Male\",\n{\n            'v': 1,\n            'f': \"1\",\n        },\n{\n            'v': 0,\n            'f': \"0\",\n        }],\n [{\n            'v': 143,\n            'f': \"143\",\n        },\n{\n            'v': 1773,\n            'f': \"1773\",\n        },\n\"Yes\",\n\"Female\",\n{\n            'v': 1,\n            'f': \"1\",\n        },\n{\n            'v': 1,\n            'f': \"1\",\n        }],\n [{\n            'v': 144,\n            'f': \"144\",\n        },\n{\n            'v': 1826,\n            'f': \"1826\",\n        },\n\"Yes\",\n\"Female\",\n{\n            'v': 1,\n            'f': \"1\",\n        },\n{\n            'v': 1,\n            'f': \"1\",\n        }],\n [{\n            'v': 145,\n            'f': \"145\",\n        },\n{\n            'v': 1565,\n            'f': \"1565\",\n        },\n\"No\",\n\"Female\",\n{\n            'v': 0,\n            'f': \"0\",\n        },\n{\n            'v': 1,\n            'f': \"1\",\n        }],\n [{\n            'v': 146,\n            'f': \"146\",\n        },\n{\n            'v': 1510,\n            'f': \"1510\",\n        },\n\"No\",\n\"Male\",\n{\n            'v': 0,\n            'f': \"0\",\n        },\n{\n            'v': 0,\n            'f': \"0\",\n        }],\n [{\n            'v': 147,\n            'f': \"147\",\n        },\n{\n            'v': 1374,\n            'f': \"1374\",\n        },\n\"No\",\n\"Male\",\n{\n            'v': 0,\n            'f': \"0\",\n        },\n{\n            'v': 0,\n            'f': \"0\",\n        }],\n [{\n            'v': 148,\n            'f': \"148\",\n        },\n{\n            'v': 1402,\n            'f': \"1402\",\n        },\n\"No\",\n\"Male\",\n{\n            'v': 0,\n            'f': \"0\",\n        },\n{\n            'v': 0,\n            'f': \"0\",\n        }],\n [{\n            'v': 149,\n            'f': \"149\",\n        },\n{\n            'v': 1702,\n            'f': \"1702\",\n        },\n\"Yes\",\n\"Male\",\n{\n            'v': 1,\n            'f': \"1\",\n        },\n{\n            'v': 0,\n            'f': \"0\",\n        }],\n [{\n            'v': 150,\n            'f': \"150\",\n        },\n{\n            'v': 1956,\n            'f': \"1956\",\n        },\n\"Yes\",\n\"Female\",\n{\n            'v': 1,\n            'f': \"1\",\n        },\n{\n            'v': 1,\n            'f': \"1\",\n        }],\n [{\n            'v': 151,\n            'f': \"151\",\n        },\n{\n            'v': 1933,\n            'f': \"1933\",\n        },\n\"Yes\",\n\"Male\",\n{\n            'v': 1,\n            'f': \"1\",\n        },\n{\n            'v': 0,\n            'f': \"0\",\n        }],\n [{\n            'v': 152,\n            'f': \"152\",\n        },\n{\n            'v': 1832,\n            'f': \"1832\",\n        },\n\"Yes\",\n\"Male\",\n{\n            'v': 1,\n            'f': \"1\",\n        },\n{\n            'v': 0,\n            'f': \"0\",\n        }],\n [{\n            'v': 153,\n            'f': \"153\",\n        },\n{\n            'v': 1893,\n            'f': \"1893\",\n        },\n\"Yes\",\n\"Male\",\n{\n            'v': 1,\n            'f': \"1\",\n        },\n{\n            'v': 0,\n            'f': \"0\",\n        }],\n [{\n            'v': 154,\n            'f': \"154\",\n        },\n{\n            'v': 1831,\n            'f': \"1831\",\n        },\n\"Yes\",\n\"Female\",\n{\n            'v': 1,\n            'f': \"1\",\n        },\n{\n            'v': 1,\n            'f': \"1\",\n        }],\n [{\n            'v': 155,\n            'f': \"155\",\n        },\n{\n            'v': 1487,\n            'f': \"1487\",\n        },\n\"No\",\n\"Male\",\n{\n            'v': 0,\n            'f': \"0\",\n        },\n{\n            'v': 0,\n            'f': \"0\",\n        }],\n [{\n            'v': 156,\n            'f': \"156\",\n        },\n{\n            'v': 2041,\n            'f': \"2041\",\n        },\n\"Yes\",\n\"Female\",\n{\n            'v': 1,\n            'f': \"1\",\n        },\n{\n            'v': 1,\n            'f': \"1\",\n        }],\n [{\n            'v': 157,\n            'f': \"157\",\n        },\n{\n            'v': 1850,\n            'f': \"1850\",\n        },\n\"Yes\",\n\"Male\",\n{\n            'v': 1,\n            'f': \"1\",\n        },\n{\n            'v': 0,\n            'f': \"0\",\n        }],\n [{\n            'v': 158,\n            'f': \"158\",\n        },\n{\n            'v': 1555,\n            'f': \"1555\",\n        },\n\"No\",\n\"Female\",\n{\n            'v': 0,\n            'f': \"0\",\n        },\n{\n            'v': 1,\n            'f': \"1\",\n        }],\n [{\n            'v': 159,\n            'f': \"159\",\n        },\n{\n            'v': 2020,\n            'f': \"2020\",\n        },\n\"Yes\",\n\"Female\",\n{\n            'v': 1,\n            'f': \"1\",\n        },\n{\n            'v': 1,\n            'f': \"1\",\n        }],\n [{\n            'v': 160,\n            'f': \"160\",\n        },\n{\n            'v': 1593,\n            'f': \"1593\",\n        },\n\"No\",\n\"Male\",\n{\n            'v': 0,\n            'f': \"0\",\n        },\n{\n            'v': 0,\n            'f': \"0\",\n        }],\n [{\n            'v': 161,\n            'f': \"161\",\n        },\n{\n            'v': 1934,\n            'f': \"1934\",\n        },\n\"Yes\",\n\"Female\",\n{\n            'v': 1,\n            'f': \"1\",\n        },\n{\n            'v': 1,\n            'f': \"1\",\n        }],\n [{\n            'v': 162,\n            'f': \"162\",\n        },\n{\n            'v': 1808,\n            'f': \"1808\",\n        },\n\"Yes\",\n\"Male\",\n{\n            'v': 1,\n            'f': \"1\",\n        },\n{\n            'v': 0,\n            'f': \"0\",\n        }],\n [{\n            'v': 163,\n            'f': \"163\",\n        },\n{\n            'v': 1722,\n            'f': \"1722\",\n        },\n\"Yes\",\n\"Female\",\n{\n            'v': 1,\n            'f': \"1\",\n        },\n{\n            'v': 1,\n            'f': \"1\",\n        }],\n [{\n            'v': 164,\n            'f': \"164\",\n        },\n{\n            'v': 1750,\n            'f': \"1750\",\n        },\n\"Yes\",\n\"Male\",\n{\n            'v': 1,\n            'f': \"1\",\n        },\n{\n            'v': 0,\n            'f': \"0\",\n        }],\n [{\n            'v': 165,\n            'f': \"165\",\n        },\n{\n            'v': 1555,\n            'f': \"1555\",\n        },\n\"No\",\n\"Male\",\n{\n            'v': 0,\n            'f': \"0\",\n        },\n{\n            'v': 0,\n            'f': \"0\",\n        }],\n [{\n            'v': 166,\n            'f': \"166\",\n        },\n{\n            'v': 1524,\n            'f': \"1524\",\n        },\n\"No\",\n\"Male\",\n{\n            'v': 0,\n            'f': \"0\",\n        },\n{\n            'v': 0,\n            'f': \"0\",\n        }],\n [{\n            'v': 167,\n            'f': \"167\",\n        },\n{\n            'v': 1461,\n            'f': \"1461\",\n        },\n\"No\",\n\"Male\",\n{\n            'v': 0,\n            'f': \"0\",\n        },\n{\n            'v': 0,\n            'f': \"0\",\n        }]],\n        columns: [[\"number\", \"index\"], [\"number\", \"SAT\"], [\"string\", \"Admitted\"], [\"string\", \"Gender\"], [\"number\", \"Admitted (yes=1/no=0)\"], [\"number\", \"Gender (Female=1/Male=0)\"]],\n        columnOptions: [{\"width\": \"1px\", \"className\": \"index_column\"}],\n        rowsPerPage: 25,\n        helpUrl: \"https://colab.research.google.com/notebooks/data_table.ipynb\",\n        suppressOutputScrolling: true,\n        minimumWidth: undefined,\n      });\n    ",
            "text/html": [
              "<div>\n",
              "<style scoped>\n",
              "    .dataframe tbody tr th:only-of-type {\n",
              "        vertical-align: middle;\n",
              "    }\n",
              "\n",
              "    .dataframe tbody tr th {\n",
              "        vertical-align: top;\n",
              "    }\n",
              "\n",
              "    .dataframe thead th {\n",
              "        text-align: right;\n",
              "    }\n",
              "</style>\n",
              "<table border=\"1\" class=\"dataframe\">\n",
              "  <thead>\n",
              "    <tr style=\"text-align: right;\">\n",
              "      <th></th>\n",
              "      <th>SAT</th>\n",
              "      <th>Admitted</th>\n",
              "      <th>Gender</th>\n",
              "      <th>Admitted (yes=1/no=0)</th>\n",
              "      <th>Gender (Female=1/Male=0)</th>\n",
              "    </tr>\n",
              "  </thead>\n",
              "  <tbody>\n",
              "    <tr>\n",
              "      <th>0</th>\n",
              "      <td>1363</td>\n",
              "      <td>No</td>\n",
              "      <td>Male</td>\n",
              "      <td>0</td>\n",
              "      <td>0</td>\n",
              "    </tr>\n",
              "    <tr>\n",
              "      <th>1</th>\n",
              "      <td>1792</td>\n",
              "      <td>Yes</td>\n",
              "      <td>Female</td>\n",
              "      <td>1</td>\n",
              "      <td>1</td>\n",
              "    </tr>\n",
              "    <tr>\n",
              "      <th>2</th>\n",
              "      <td>1954</td>\n",
              "      <td>Yes</td>\n",
              "      <td>Female</td>\n",
              "      <td>1</td>\n",
              "      <td>1</td>\n",
              "    </tr>\n",
              "    <tr>\n",
              "      <th>3</th>\n",
              "      <td>1653</td>\n",
              "      <td>No</td>\n",
              "      <td>Male</td>\n",
              "      <td>0</td>\n",
              "      <td>0</td>\n",
              "    </tr>\n",
              "    <tr>\n",
              "      <th>4</th>\n",
              "      <td>1593</td>\n",
              "      <td>No</td>\n",
              "      <td>Male</td>\n",
              "      <td>0</td>\n",
              "      <td>0</td>\n",
              "    </tr>\n",
              "    <tr>\n",
              "      <th>...</th>\n",
              "      <td>...</td>\n",
              "      <td>...</td>\n",
              "      <td>...</td>\n",
              "      <td>...</td>\n",
              "      <td>...</td>\n",
              "    </tr>\n",
              "    <tr>\n",
              "      <th>163</th>\n",
              "      <td>1722</td>\n",
              "      <td>Yes</td>\n",
              "      <td>Female</td>\n",
              "      <td>1</td>\n",
              "      <td>1</td>\n",
              "    </tr>\n",
              "    <tr>\n",
              "      <th>164</th>\n",
              "      <td>1750</td>\n",
              "      <td>Yes</td>\n",
              "      <td>Male</td>\n",
              "      <td>1</td>\n",
              "      <td>0</td>\n",
              "    </tr>\n",
              "    <tr>\n",
              "      <th>165</th>\n",
              "      <td>1555</td>\n",
              "      <td>No</td>\n",
              "      <td>Male</td>\n",
              "      <td>0</td>\n",
              "      <td>0</td>\n",
              "    </tr>\n",
              "    <tr>\n",
              "      <th>166</th>\n",
              "      <td>1524</td>\n",
              "      <td>No</td>\n",
              "      <td>Male</td>\n",
              "      <td>0</td>\n",
              "      <td>0</td>\n",
              "    </tr>\n",
              "    <tr>\n",
              "      <th>167</th>\n",
              "      <td>1461</td>\n",
              "      <td>No</td>\n",
              "      <td>Male</td>\n",
              "      <td>0</td>\n",
              "      <td>0</td>\n",
              "    </tr>\n",
              "  </tbody>\n",
              "</table>\n",
              "<p>168 rows × 5 columns</p>\n",
              "</div>"
            ],
            "text/plain": [
              "      SAT Admitted  Gender  Admitted (yes=1/no=0)  Gender (Female=1/Male=0)\n",
              "0    1363       No    Male                      0                         0\n",
              "1    1792      Yes  Female                      1                         1\n",
              "2    1954      Yes  Female                      1                         1\n",
              "3    1653       No    Male                      0                         0\n",
              "4    1593       No    Male                      0                         0\n",
              "..    ...      ...     ...                    ...                       ...\n",
              "163  1722      Yes  Female                      1                         1\n",
              "164  1750      Yes    Male                      1                         0\n",
              "165  1555       No    Male                      0                         0\n",
              "166  1524       No    Male                      0                         0\n",
              "167  1461       No    Male                      0                         0\n",
              "\n",
              "[168 rows x 5 columns]"
            ]
          },
          "metadata": {
            "tags": []
          },
          "execution_count": 4
        }
      ]
    },
    {
      "cell_type": "markdown",
      "metadata": {
        "id": "9cViECzTh9U0"
      },
      "source": [
        "####テストデータ"
      ]
    },
    {
      "cell_type": "code",
      "metadata": {
        "colab": {
          "base_uri": "https://localhost:8080/",
          "height": 468
        },
        "id": "zKKsGpgth9U0",
        "outputId": "39813207-f3d3-4185-b33a-a6e7b1e6b4d6"
      },
      "source": [
        "test['Admitted (yes=1/no=0)'] = test['Admitted'].map({'Yes':1,'No':0})\n",
        "test['Gender (Female=1/Male=0)'] = test['Gender'].map({'Female':1,'Male':0})\n",
        "test"
      ],
      "execution_count": null,
      "outputs": [
        {
          "output_type": "execute_result",
          "data": {
            "application/vnd.google.colaboratory.module+javascript": "\n      import \"https://ssl.gstatic.com/colaboratory/data_table/a6224c040fa35dcf/data_table.js\";\n\n      window.createDataTable({\n        data: [[{\n            'v': 0,\n            'f': \"0\",\n        },\n{\n            'v': 1323,\n            'f': \"1323\",\n        },\n\"No\",\n\"Male\",\n{\n            'v': 0,\n            'f': \"0\",\n        },\n{\n            'v': 0,\n            'f': \"0\",\n        }],\n [{\n            'v': 1,\n            'f': \"1\",\n        },\n{\n            'v': 1725,\n            'f': \"1725\",\n        },\n\"Yes\",\n\"Female\",\n{\n            'v': 1,\n            'f': \"1\",\n        },\n{\n            'v': 1,\n            'f': \"1\",\n        }],\n [{\n            'v': 2,\n            'f': \"2\",\n        },\n{\n            'v': 1762,\n            'f': \"1762\",\n        },\n\"Yes\",\n\"Female\",\n{\n            'v': 1,\n            'f': \"1\",\n        },\n{\n            'v': 1,\n            'f': \"1\",\n        }],\n [{\n            'v': 3,\n            'f': \"3\",\n        },\n{\n            'v': 1777,\n            'f': \"1777\",\n        },\n\"Yes\",\n\"Male\",\n{\n            'v': 1,\n            'f': \"1\",\n        },\n{\n            'v': 0,\n            'f': \"0\",\n        }],\n [{\n            'v': 4,\n            'f': \"4\",\n        },\n{\n            'v': 1665,\n            'f': \"1665\",\n        },\n\"No\",\n\"Male\",\n{\n            'v': 0,\n            'f': \"0\",\n        },\n{\n            'v': 0,\n            'f': \"0\",\n        }],\n [{\n            'v': 5,\n            'f': \"5\",\n        },\n{\n            'v': 1556,\n            'f': \"1556\",\n        },\n\"Yes\",\n\"Female\",\n{\n            'v': 1,\n            'f': \"1\",\n        },\n{\n            'v': 1,\n            'f': \"1\",\n        }],\n [{\n            'v': 6,\n            'f': \"6\",\n        },\n{\n            'v': 1731,\n            'f': \"1731\",\n        },\n\"Yes\",\n\"Female\",\n{\n            'v': 1,\n            'f': \"1\",\n        },\n{\n            'v': 1,\n            'f': \"1\",\n        }],\n [{\n            'v': 7,\n            'f': \"7\",\n        },\n{\n            'v': 1809,\n            'f': \"1809\",\n        },\n\"Yes\",\n\"Female\",\n{\n            'v': 1,\n            'f': \"1\",\n        },\n{\n            'v': 1,\n            'f': \"1\",\n        }],\n [{\n            'v': 8,\n            'f': \"8\",\n        },\n{\n            'v': 1930,\n            'f': \"1930\",\n        },\n\"Yes\",\n\"Female\",\n{\n            'v': 1,\n            'f': \"1\",\n        },\n{\n            'v': 1,\n            'f': \"1\",\n        }],\n [{\n            'v': 9,\n            'f': \"9\",\n        },\n{\n            'v': 1708,\n            'f': \"1708\",\n        },\n\"Yes\",\n\"Male\",\n{\n            'v': 1,\n            'f': \"1\",\n        },\n{\n            'v': 0,\n            'f': \"0\",\n        }],\n [{\n            'v': 10,\n            'f': \"10\",\n        },\n{\n            'v': 1970,\n            'f': \"1970\",\n        },\n\"Yes\",\n\"Female\",\n{\n            'v': 1,\n            'f': \"1\",\n        },\n{\n            'v': 1,\n            'f': \"1\",\n        }],\n [{\n            'v': 11,\n            'f': \"11\",\n        },\n{\n            'v': 2039,\n            'f': \"2039\",\n        },\n\"Yes\",\n\"Female\",\n{\n            'v': 1,\n            'f': \"1\",\n        },\n{\n            'v': 1,\n            'f': \"1\",\n        }],\n [{\n            'v': 12,\n            'f': \"12\",\n        },\n{\n            'v': 1681,\n            'f': \"1681\",\n        },\n\"Yes\",\n\"Female\",\n{\n            'v': 1,\n            'f': \"1\",\n        },\n{\n            'v': 1,\n            'f': \"1\",\n        }],\n [{\n            'v': 13,\n            'f': \"13\",\n        },\n{\n            'v': 1444,\n            'f': \"1444\",\n        },\n\"No\",\n\"Male\",\n{\n            'v': 0,\n            'f': \"0\",\n        },\n{\n            'v': 0,\n            'f': \"0\",\n        }],\n [{\n            'v': 14,\n            'f': \"14\",\n        },\n{\n            'v': 1726,\n            'f': \"1726\",\n        },\n\"No\",\n\"Male\",\n{\n            'v': 0,\n            'f': \"0\",\n        },\n{\n            'v': 0,\n            'f': \"0\",\n        }],\n [{\n            'v': 15,\n            'f': \"15\",\n        },\n{\n            'v': 1876,\n            'f': \"1876\",\n        },\n\"Yes\",\n\"Female\",\n{\n            'v': 1,\n            'f': \"1\",\n        },\n{\n            'v': 1,\n            'f': \"1\",\n        }],\n [{\n            'v': 16,\n            'f': \"16\",\n        },\n{\n            'v': 1485,\n            'f': \"1485\",\n        },\n\"No\",\n\"Male\",\n{\n            'v': 0,\n            'f': \"0\",\n        },\n{\n            'v': 0,\n            'f': \"0\",\n        }],\n [{\n            'v': 17,\n            'f': \"17\",\n        },\n{\n            'v': 1500,\n            'f': \"1500\",\n        },\n\"No\",\n\"Female\",\n{\n            'v': 0,\n            'f': \"0\",\n        },\n{\n            'v': 1,\n            'f': \"1\",\n        }],\n [{\n            'v': 18,\n            'f': \"18\",\n        },\n{\n            'v': 1900,\n            'f': \"1900\",\n        },\n\"Yes\",\n\"Male\",\n{\n            'v': 1,\n            'f': \"1\",\n        },\n{\n            'v': 0,\n            'f': \"0\",\n        }]],\n        columns: [[\"number\", \"index\"], [\"number\", \"SAT\"], [\"string\", \"Admitted\"], [\"string\", \"Gender\"], [\"number\", \"Admitted (yes=1/no=0)\"], [\"number\", \"Gender (Female=1/Male=0)\"]],\n        columnOptions: [{\"width\": \"1px\", \"className\": \"index_column\"}],\n        rowsPerPage: 25,\n        helpUrl: \"https://colab.research.google.com/notebooks/data_table.ipynb\",\n        suppressOutputScrolling: true,\n        minimumWidth: undefined,\n      });\n    ",
            "text/html": [
              "<div>\n",
              "<style scoped>\n",
              "    .dataframe tbody tr th:only-of-type {\n",
              "        vertical-align: middle;\n",
              "    }\n",
              "\n",
              "    .dataframe tbody tr th {\n",
              "        vertical-align: top;\n",
              "    }\n",
              "\n",
              "    .dataframe thead th {\n",
              "        text-align: right;\n",
              "    }\n",
              "</style>\n",
              "<table border=\"1\" class=\"dataframe\">\n",
              "  <thead>\n",
              "    <tr style=\"text-align: right;\">\n",
              "      <th></th>\n",
              "      <th>SAT</th>\n",
              "      <th>Admitted</th>\n",
              "      <th>Gender</th>\n",
              "      <th>Admitted (yes=1/no=0)</th>\n",
              "      <th>Gender (Female=1/Male=0)</th>\n",
              "    </tr>\n",
              "  </thead>\n",
              "  <tbody>\n",
              "    <tr>\n",
              "      <th>0</th>\n",
              "      <td>1323</td>\n",
              "      <td>No</td>\n",
              "      <td>Male</td>\n",
              "      <td>0</td>\n",
              "      <td>0</td>\n",
              "    </tr>\n",
              "    <tr>\n",
              "      <th>1</th>\n",
              "      <td>1725</td>\n",
              "      <td>Yes</td>\n",
              "      <td>Female</td>\n",
              "      <td>1</td>\n",
              "      <td>1</td>\n",
              "    </tr>\n",
              "    <tr>\n",
              "      <th>2</th>\n",
              "      <td>1762</td>\n",
              "      <td>Yes</td>\n",
              "      <td>Female</td>\n",
              "      <td>1</td>\n",
              "      <td>1</td>\n",
              "    </tr>\n",
              "    <tr>\n",
              "      <th>3</th>\n",
              "      <td>1777</td>\n",
              "      <td>Yes</td>\n",
              "      <td>Male</td>\n",
              "      <td>1</td>\n",
              "      <td>0</td>\n",
              "    </tr>\n",
              "    <tr>\n",
              "      <th>4</th>\n",
              "      <td>1665</td>\n",
              "      <td>No</td>\n",
              "      <td>Male</td>\n",
              "      <td>0</td>\n",
              "      <td>0</td>\n",
              "    </tr>\n",
              "    <tr>\n",
              "      <th>5</th>\n",
              "      <td>1556</td>\n",
              "      <td>Yes</td>\n",
              "      <td>Female</td>\n",
              "      <td>1</td>\n",
              "      <td>1</td>\n",
              "    </tr>\n",
              "    <tr>\n",
              "      <th>6</th>\n",
              "      <td>1731</td>\n",
              "      <td>Yes</td>\n",
              "      <td>Female</td>\n",
              "      <td>1</td>\n",
              "      <td>1</td>\n",
              "    </tr>\n",
              "    <tr>\n",
              "      <th>7</th>\n",
              "      <td>1809</td>\n",
              "      <td>Yes</td>\n",
              "      <td>Female</td>\n",
              "      <td>1</td>\n",
              "      <td>1</td>\n",
              "    </tr>\n",
              "    <tr>\n",
              "      <th>8</th>\n",
              "      <td>1930</td>\n",
              "      <td>Yes</td>\n",
              "      <td>Female</td>\n",
              "      <td>1</td>\n",
              "      <td>1</td>\n",
              "    </tr>\n",
              "    <tr>\n",
              "      <th>9</th>\n",
              "      <td>1708</td>\n",
              "      <td>Yes</td>\n",
              "      <td>Male</td>\n",
              "      <td>1</td>\n",
              "      <td>0</td>\n",
              "    </tr>\n",
              "    <tr>\n",
              "      <th>10</th>\n",
              "      <td>1970</td>\n",
              "      <td>Yes</td>\n",
              "      <td>Female</td>\n",
              "      <td>1</td>\n",
              "      <td>1</td>\n",
              "    </tr>\n",
              "    <tr>\n",
              "      <th>11</th>\n",
              "      <td>2039</td>\n",
              "      <td>Yes</td>\n",
              "      <td>Female</td>\n",
              "      <td>1</td>\n",
              "      <td>1</td>\n",
              "    </tr>\n",
              "    <tr>\n",
              "      <th>12</th>\n",
              "      <td>1681</td>\n",
              "      <td>Yes</td>\n",
              "      <td>Female</td>\n",
              "      <td>1</td>\n",
              "      <td>1</td>\n",
              "    </tr>\n",
              "    <tr>\n",
              "      <th>13</th>\n",
              "      <td>1444</td>\n",
              "      <td>No</td>\n",
              "      <td>Male</td>\n",
              "      <td>0</td>\n",
              "      <td>0</td>\n",
              "    </tr>\n",
              "    <tr>\n",
              "      <th>14</th>\n",
              "      <td>1726</td>\n",
              "      <td>No</td>\n",
              "      <td>Male</td>\n",
              "      <td>0</td>\n",
              "      <td>0</td>\n",
              "    </tr>\n",
              "    <tr>\n",
              "      <th>15</th>\n",
              "      <td>1876</td>\n",
              "      <td>Yes</td>\n",
              "      <td>Female</td>\n",
              "      <td>1</td>\n",
              "      <td>1</td>\n",
              "    </tr>\n",
              "    <tr>\n",
              "      <th>16</th>\n",
              "      <td>1485</td>\n",
              "      <td>No</td>\n",
              "      <td>Male</td>\n",
              "      <td>0</td>\n",
              "      <td>0</td>\n",
              "    </tr>\n",
              "    <tr>\n",
              "      <th>17</th>\n",
              "      <td>1500</td>\n",
              "      <td>No</td>\n",
              "      <td>Female</td>\n",
              "      <td>0</td>\n",
              "      <td>1</td>\n",
              "    </tr>\n",
              "    <tr>\n",
              "      <th>18</th>\n",
              "      <td>1900</td>\n",
              "      <td>Yes</td>\n",
              "      <td>Male</td>\n",
              "      <td>1</td>\n",
              "      <td>0</td>\n",
              "    </tr>\n",
              "  </tbody>\n",
              "</table>\n",
              "</div>"
            ],
            "text/plain": [
              "     SAT Admitted  Gender  Admitted (yes=1/no=0)  Gender (Female=1/Male=0)\n",
              "0   1323       No    Male                      0                         0\n",
              "1   1725      Yes  Female                      1                         1\n",
              "2   1762      Yes  Female                      1                         1\n",
              "3   1777      Yes    Male                      1                         0\n",
              "4   1665       No    Male                      0                         0\n",
              "5   1556      Yes  Female                      1                         1\n",
              "6   1731      Yes  Female                      1                         1\n",
              "7   1809      Yes  Female                      1                         1\n",
              "8   1930      Yes  Female                      1                         1\n",
              "9   1708      Yes    Male                      1                         0\n",
              "10  1970      Yes  Female                      1                         1\n",
              "11  2039      Yes  Female                      1                         1\n",
              "12  1681      Yes  Female                      1                         1\n",
              "13  1444       No    Male                      0                         0\n",
              "14  1726       No    Male                      0                         0\n",
              "15  1876      Yes  Female                      1                         1\n",
              "16  1485       No    Male                      0                         0\n",
              "17  1500       No  Female                      0                         1\n",
              "18  1900      Yes    Male                      1                         0"
            ]
          },
          "metadata": {
            "tags": []
          },
          "execution_count": 5
        }
      ]
    },
    {
      "cell_type": "markdown",
      "metadata": {
        "id": "fTY3m5C9OCgZ"
      },
      "source": [
        "##データを可視化"
      ]
    },
    {
      "cell_type": "markdown",
      "metadata": {
        "id": "xZVi2WVEPRO-"
      },
      "source": [
        "###最小二乗法を適用するための条件 **’’線形性’’** を満たしていない\n",
        "* 両端の値は０以下または１以上になっているため、直線はデータを正しく予測していない"
      ]
    },
    {
      "cell_type": "code",
      "metadata": {
        "colab": {
          "base_uri": "https://localhost:8080/",
          "height": 303
        },
        "id": "An0DNemMO3qQ",
        "outputId": "fdcfd415-0dff-448d-f249-a7c94f2d5381"
      },
      "source": [
        "sns.regplot(data=train, x=\"SAT\", y=\"Admitted (yes=1/no=0)\")"
      ],
      "execution_count": null,
      "outputs": [
        {
          "output_type": "execute_result",
          "data": {
            "text/plain": [
              "<matplotlib.axes._subplots.AxesSubplot at 0x7f5466a81250>"
            ]
          },
          "metadata": {
            "tags": []
          },
          "execution_count": 6
        },
        {
          "output_type": "display_data",
          "data": {
            "image/png": "[encoded data removed]",
            "text/plain": [
              "<Figure size 432x288 with 1 Axes>"
            ]
          },
          "metadata": {
            "tags": [],
            "needs_background": "light"
          }
        }
      ]
    },
    {
      "cell_type": "markdown",
      "metadata": {
        "id": "PCcqTpOzc9Z2"
      },
      "source": [
        "##回帰分析に使うデータの指定"
      ]
    },
    {
      "cell_type": "markdown",
      "metadata": {
        "id": "upjbQnfYmQYq"
      },
      "source": [
        "###訓練データ"
      ]
    },
    {
      "cell_type": "code",
      "metadata": {
        "id": "m0aKJtAOEbYN"
      },
      "source": [
        "y_train = train['Admitted (yes=1/no=0)'] #目的変数\n",
        "X_trains = [train['SAT'], train['Gender (Female=1/Male=0)'], train[['SAT','Gender (Female=1/Male=0)']]] #説明変数"
      ],
      "execution_count": null,
      "outputs": []
    },
    {
      "cell_type": "markdown",
      "metadata": {
        "id": "6F6SxAjhmVNx"
      },
      "source": [
        "###テストデータ"
      ]
    },
    {
      "cell_type": "code",
      "metadata": {
        "id": "k8acDkx-mXKK"
      },
      "source": [
        "y_test = test['Admitted (yes=1/no=0)'] #目的変数\n",
        "X_tests = [test['SAT'], test['Gender (Female=1/Male=0)'], test[['SAT','Gender (Female=1/Male=0)']]] #説明変数\n",
        "X_tests = [sm.add_constant(X) for X in X_tests]"
      ],
      "execution_count": null,
      "outputs": []
    },
    {
      "cell_type": "markdown",
      "metadata": {
        "id": "IYNTD1W7dZ8J"
      },
      "source": [
        "##ロジスティック回帰分析\n",
        "- 最尤推定法(MLE)\n",
        " - 尤度関数\n",
        "   - 作成したモデルが、実際の変数間の関係をどれぐらい良く示しているか\n",
        "   - 尤度関数の値が大きいほど、モデルが正確である確率が高いことを意味している\n",
        "   - 最尤推定法は、尤度関数の値を最大化するよう試みます\n",
        "   - コンピューターは、尤度の値が最大になるように演算を繰り返していきます\n",
        "- 対数尤度(Log-Likelihood)\n",
        " - 対数尤度の値は基本的にマイナスになるが、その値は大きければ大きいほうが良い\n",
        "- 対数尤度のNull(LL-Null)\n",
        " - 説明変数のない場合の対数尤度を示している\n",
        "- 対数尤度比(LLR p-value)\n",
        " - モデルが統計的にLLNullと異なるか。即ち意味がないモデルかどうかを確認するために使われる\n",
        "- 疑似決定係数(Pseudo R-squ.)\n",
        " - 疑似決定係数の値は0.2から0.4の間だと良いとされている\n",
        " - モデルが異なれば、そこから得られる疑似決定係数の値も異なる\n"
      ]
    },
    {
      "cell_type": "code",
      "metadata": {
        "colab": {
          "base_uri": "https://localhost:8080/"
        },
        "id": "5OPjoeQRdb6c",
        "outputId": "2bd781a6-c6ef-4266-9e40-af298b7408b5"
      },
      "source": [
        "results = []\n",
        "for X in X_trains:\n",
        "  model = sm.Logit(y_train, sm.add_constant(X))\n",
        "  results.append(model.fit())"
      ],
      "execution_count": null,
      "outputs": [
        {
          "output_type": "stream",
          "text": [
            "Optimization terminated successfully.\n",
            "         Current function value: 0.137766\n",
            "         Iterations 10\n",
            "Optimization terminated successfully.\n",
            "         Current function value: 0.572260\n",
            "         Iterations 5\n",
            "Optimization terminated successfully.\n",
            "         Current function value: 0.120117\n",
            "         Iterations 10\n"
          ],
          "name": "stdout"
        }
      ]
    },
    {
      "cell_type": "markdown",
      "metadata": {
        "id": "Yfsd_NEnjttk"
      },
      "source": [
        "##計算された回帰モデル\n"
      ]
    },
    {
      "cell_type": "code",
      "metadata": {
        "id": "DQltm-MsRxw1"
      },
      "source": [
        "def formConfusionMatrix(cm):\n",
        "  cm_df = pd.DataFrame(cm)\n",
        "  cm_df.columns = ['Predicted 0', 'Predicted 1']\n",
        "  cm_df = cm_df.rename(index={0: 'Actual 0',1: 'Actual 1'})\n",
        "  display(cm_df)\n",
        "  return cm_df\n",
        "\n",
        "def confusionMatrix(data, actual_values, model):\n",
        "  pred_values = model.predict(data)\n",
        "  bins=np.array([0,0.5,1])\n",
        "  cm = np.histogram2d(actual_values, pred_values, bins=bins)[0]\n",
        "  accuracy = (cm[0,0]+cm[1,1])/cm.sum()\n",
        "  return cm, accuracy\n",
        "\n",
        "def getAccuracy(cm_df):\n",
        "  cm = np.array(cm_df)\n",
        "  accuracy = (cm[0,0]+cm[1,1])/cm.sum()\n",
        "  return accuracy "
      ],
      "execution_count": null,
      "outputs": []
    },
    {
      "cell_type": "markdown",
      "metadata": {
        "id": "kU-JBGwhF8AG"
      },
      "source": [
        "###SATのみ\n",
        "$$log\\left( \\dfrac{\\pi }{1-\\pi }\\right)=-69.91+0.042 \\times SAT$$\n",
        "$$\\log \\left( \\dfrac{odds_2}{odds_1}\\right) = 0.042 \\times({SAT_2}-{SAT_1})$$\n",
        "SATスコアが1違った場合:<br>\n",
        "$\\log \\left( \\dfrac{odds_2}{odds_1}\\right) = 0.042 \\times 1$<br>\n",
        "${odds_2}=104.2\\% \\times {odds_1}$<br>\n",
        "SATスコアの値が1上がるたびに、合格する可能性のオッズは4.2%ずつ上がっていく"
      ]
    },
    {
      "cell_type": "code",
      "metadata": {
        "id": "kyicaMd-HuZa",
        "colab": {
          "base_uri": "https://localhost:8080/"
        },
        "outputId": "243efa8a-dcef-4769-b28a-2f583c1d5f66"
      },
      "source": [
        "print(results[0].summary())"
      ],
      "execution_count": null,
      "outputs": [
        {
          "output_type": "stream",
          "text": [
            "                             Logit Regression Results                            \n",
            "=================================================================================\n",
            "Dep. Variable:     Admitted (yes=1/no=0)   No. Observations:                  168\n",
            "Model:                             Logit   Df Residuals:                      166\n",
            "Method:                              MLE   Df Model:                            1\n",
            "Date:                   Sun, 28 Mar 2021   Pseudo R-squ.:                  0.7992\n",
            "Time:                           01:41:49   Log-Likelihood:                -23.145\n",
            "converged:                          True   LL-Null:                       -115.26\n",
            "Covariance Type:               nonrobust   LLR p-value:                 5.805e-42\n",
            "==============================================================================\n",
            "                 coef    std err          z      P>|z|      [0.025      0.975]\n",
            "------------------------------------------------------------------------------\n",
            "const        -69.9128     15.737     -4.443      0.000    -100.756     -39.070\n",
            "SAT            0.0420      0.009      4.454      0.000       0.024       0.060\n",
            "==============================================================================\n",
            "\n",
            "Possibly complete quasi-separation: A fraction 0.27 of observations can be\n",
            "perfectly predicted. This might indicate that there is complete\n",
            "quasi-separation. In this case some parameters will not be identified.\n"
          ],
          "name": "stdout"
        }
      ]
    },
    {
      "cell_type": "markdown",
      "metadata": {
        "id": "3EtIibeteN78"
      },
      "source": [
        "####訓練データ"
      ]
    },
    {
      "cell_type": "code",
      "metadata": {
        "id": "cnJmL6cSOIbu",
        "colab": {
          "base_uri": "https://localhost:8080/",
          "height": 162
        },
        "outputId": "0eda60f0-3ee4-4c3e-c0a1-707e40eadfba"
      },
      "source": [
        "cm_df = formConfusionMatrix(results[0].pred_table())\n",
        "accurecy = getAccuracy(cm_df)\n",
        "print ('モデルの正確率: {:.3%}'.format(accurecy))\n",
        "print ('モデルの誤判別率: {:.3%}'.format(1-accurecy))"
      ],
      "execution_count": null,
      "outputs": [
        {
          "output_type": "display_data",
          "data": {
            "application/vnd.google.colaboratory.module+javascript": "\n      import \"https://ssl.gstatic.com/colaboratory/data_table/a6224c040fa35dcf/data_table.js\";\n\n      window.createDataTable({\n        data: [[\"Actual 0\",\n{\n            'v': 67.0,\n            'f': \"67.0\",\n        },\n{\n            'v': 7.0,\n            'f': \"7.0\",\n        }],\n [\"Actual 1\",\n{\n            'v': 7.0,\n            'f': \"7.0\",\n        },\n{\n            'v': 87.0,\n            'f': \"87.0\",\n        }]],\n        columns: [[\"string\", \"index\"], [\"number\", \"Predicted 0\"], [\"number\", \"Predicted 1\"]],\n        columnOptions: [{\"width\": \"1px\", \"className\": \"index_column\"}],\n        rowsPerPage: 25,\n        helpUrl: \"https://colab.research.google.com/notebooks/data_table.ipynb\",\n        suppressOutputScrolling: true,\n        minimumWidth: undefined,\n      });\n    ",
            "text/html": [
              "<div>\n",
              "<style scoped>\n",
              "    .dataframe tbody tr th:only-of-type {\n",
              "        vertical-align: middle;\n",
              "    }\n",
              "\n",
              "    .dataframe tbody tr th {\n",
              "        vertical-align: top;\n",
              "    }\n",
              "\n",
              "    .dataframe thead th {\n",
              "        text-align: right;\n",
              "    }\n",
              "</style>\n",
              "<table border=\"1\" class=\"dataframe\">\n",
              "  <thead>\n",
              "    <tr style=\"text-align: right;\">\n",
              "      <th></th>\n",
              "      <th>Predicted 0</th>\n",
              "      <th>Predicted 1</th>\n",
              "    </tr>\n",
              "  </thead>\n",
              "  <tbody>\n",
              "    <tr>\n",
              "      <th>Actual 0</th>\n",
              "      <td>67.0</td>\n",
              "      <td>7.0</td>\n",
              "    </tr>\n",
              "    <tr>\n",
              "      <th>Actual 1</th>\n",
              "      <td>7.0</td>\n",
              "      <td>87.0</td>\n",
              "    </tr>\n",
              "  </tbody>\n",
              "</table>\n",
              "</div>"
            ],
            "text/plain": [
              "          Predicted 0  Predicted 1\n",
              "Actual 0         67.0          7.0\n",
              "Actual 1          7.0         87.0"
            ]
          },
          "metadata": {
            "tags": []
          }
        },
        {
          "output_type": "stream",
          "text": [
            "モデルの正確率: 91.667%\n",
            "モデルの誤判別率: 8.333%\n"
          ],
          "name": "stdout"
        }
      ]
    },
    {
      "cell_type": "markdown",
      "metadata": {
        "id": "-0I7z7FqZ85Q"
      },
      "source": [
        "####テストデータ"
      ]
    },
    {
      "cell_type": "code",
      "metadata": {
        "id": "Syx9oudbZ_bZ",
        "colab": {
          "base_uri": "https://localhost:8080/",
          "height": 162
        },
        "outputId": "2a2c254e-fe2e-4641-ec96-05f00294ccae"
      },
      "source": [
        "cm = confusionMatrix(X_tests[0], y_test, results[0])\n",
        "cm_df = formConfusionMatrix(cm[0])\n",
        "print ('モデルの正確率: {:.3%}'.format(cm[1]))\n",
        "print ('モデルの誤判別率: {:.3%}'.format(1-cm[1]))"
      ],
      "execution_count": null,
      "outputs": [
        {
          "output_type": "display_data",
          "data": {
            "application/vnd.google.colaboratory.module+javascript": "\n      import \"https://ssl.gstatic.com/colaboratory/data_table/a6224c040fa35dcf/data_table.js\";\n\n      window.createDataTable({\n        data: [[\"Actual 0\",\n{\n            'v': 4.0,\n            'f': \"4.0\",\n        },\n{\n            'v': 2.0,\n            'f': \"2.0\",\n        }],\n [\"Actual 1\",\n{\n            'v': 1.0,\n            'f': \"1.0\",\n        },\n{\n            'v': 12.0,\n            'f': \"12.0\",\n        }]],\n        columns: [[\"string\", \"index\"], [\"number\", \"Predicted 0\"], [\"number\", \"Predicted 1\"]],\n        columnOptions: [{\"width\": \"1px\", \"className\": \"index_column\"}],\n        rowsPerPage: 25,\n        helpUrl: \"https://colab.research.google.com/notebooks/data_table.ipynb\",\n        suppressOutputScrolling: true,\n        minimumWidth: undefined,\n      });\n    ",
            "text/html": [
              "<div>\n",
              "<style scoped>\n",
              "    .dataframe tbody tr th:only-of-type {\n",
              "        vertical-align: middle;\n",
              "    }\n",
              "\n",
              "    .dataframe tbody tr th {\n",
              "        vertical-align: top;\n",
              "    }\n",
              "\n",
              "    .dataframe thead th {\n",
              "        text-align: right;\n",
              "    }\n",
              "</style>\n",
              "<table border=\"1\" class=\"dataframe\">\n",
              "  <thead>\n",
              "    <tr style=\"text-align: right;\">\n",
              "      <th></th>\n",
              "      <th>Predicted 0</th>\n",
              "      <th>Predicted 1</th>\n",
              "    </tr>\n",
              "  </thead>\n",
              "  <tbody>\n",
              "    <tr>\n",
              "      <th>Actual 0</th>\n",
              "      <td>4.0</td>\n",
              "      <td>2.0</td>\n",
              "    </tr>\n",
              "    <tr>\n",
              "      <th>Actual 1</th>\n",
              "      <td>1.0</td>\n",
              "      <td>12.0</td>\n",
              "    </tr>\n",
              "  </tbody>\n",
              "</table>\n",
              "</div>"
            ],
            "text/plain": [
              "          Predicted 0  Predicted 1\n",
              "Actual 0          4.0          2.0\n",
              "Actual 1          1.0         12.0"
            ]
          },
          "metadata": {
            "tags": []
          }
        },
        {
          "output_type": "stream",
          "text": [
            "モデルの正確率: 84.211%\n",
            "モデルの誤判別率: 15.789%\n"
          ],
          "name": "stdout"
        }
      ]
    },
    {
      "cell_type": "markdown",
      "metadata": {
        "id": "CXpVdDY5GH-Q"
      },
      "source": [
        "###Genderのみ\n",
        "$$log\\left( \\dfrac{\\pi }{1-\\pi }\\right)=-0.64+2.08 \\times Gender$$\n",
        "$$\\log \\left( \\dfrac{odds_2}{odds_1}\\right) = 2.08 \\times({Gender_2}-{Gender_1})$$\n",
        "性別による合格率の違い:<br>\n",
        "$\\log \\left( \\dfrac{odds_{female}}{odds_{male}}\\right) = 2.08 \\times(1-0)$<br>\n",
        "${odds_{female}}=7.99 \\times {odds_{male}}$<br>\n",
        "女性は男性よりも約8倍合格率が高いことを示している"
      ]
    },
    {
      "cell_type": "code",
      "metadata": {
        "colab": {
          "base_uri": "https://localhost:8080/"
        },
        "id": "KSZO3huEHylx",
        "outputId": "1ff4a54d-98a3-4148-ed50-15a1eb31edda"
      },
      "source": [
        "print(results[1].summary())"
      ],
      "execution_count": null,
      "outputs": [
        {
          "output_type": "stream",
          "text": [
            "                             Logit Regression Results                            \n",
            "=================================================================================\n",
            "Dep. Variable:     Admitted (yes=1/no=0)   No. Observations:                  168\n",
            "Model:                             Logit   Df Residuals:                      166\n",
            "Method:                              MLE   Df Model:                            1\n",
            "Date:                   Sun, 28 Mar 2021   Pseudo R-squ.:                  0.1659\n",
            "Time:                           01:41:49   Log-Likelihood:                -96.140\n",
            "converged:                          True   LL-Null:                       -115.26\n",
            "Covariance Type:               nonrobust   LLR p-value:                 6.283e-10\n",
            "============================================================================================\n",
            "                               coef    std err          z      P>|z|      [0.025      0.975]\n",
            "--------------------------------------------------------------------------------------------\n",
            "const                       -0.6436      0.222     -2.901      0.004      -1.078      -0.209\n",
            "Gender (Female=1/Male=0)     2.0786      0.363      5.727      0.000       1.367       2.790\n",
            "============================================================================================\n"
          ],
          "name": "stdout"
        }
      ]
    },
    {
      "cell_type": "markdown",
      "metadata": {
        "id": "PUTnRXWmcej6"
      },
      "source": [
        "####訓練データ"
      ]
    },
    {
      "cell_type": "code",
      "metadata": {
        "colab": {
          "base_uri": "https://localhost:8080/",
          "height": 162
        },
        "id": "vrADXQNrcekB",
        "outputId": "9c02df2d-4383-4f16-b2e9-268667865e4f"
      },
      "source": [
        "cm_df = formConfusionMatrix(results[1].pred_table())\n",
        "accurecy = getAccuracy(cm_df)\n",
        "print ('モデルの正確率: {:.3%}'.format(accurecy))\n",
        "print ('モデルの誤判別率: {:.3%}'.format(1-accurecy))"
      ],
      "execution_count": null,
      "outputs": [
        {
          "output_type": "display_data",
          "data": {
            "application/vnd.google.colaboratory.module+javascript": "\n      import \"https://ssl.gstatic.com/colaboratory/data_table/a6224c040fa35dcf/data_table.js\";\n\n      window.createDataTable({\n        data: [[\"Actual 0\",\n{\n            'v': 59.0,\n            'f': \"59.0\",\n        },\n{\n            'v': 15.0,\n            'f': \"15.0\",\n        }],\n [\"Actual 1\",\n{\n            'v': 31.0,\n            'f': \"31.0\",\n        },\n{\n            'v': 63.0,\n            'f': \"63.0\",\n        }]],\n        columns: [[\"string\", \"index\"], [\"number\", \"Predicted 0\"], [\"number\", \"Predicted 1\"]],\n        columnOptions: [{\"width\": \"1px\", \"className\": \"index_column\"}],\n        rowsPerPage: 25,\n        helpUrl: \"https://colab.research.google.com/notebooks/data_table.ipynb\",\n        suppressOutputScrolling: true,\n        minimumWidth: undefined,\n      });\n    ",
            "text/html": [
              "<div>\n",
              "<style scoped>\n",
              "    .dataframe tbody tr th:only-of-type {\n",
              "        vertical-align: middle;\n",
              "    }\n",
              "\n",
              "    .dataframe tbody tr th {\n",
              "        vertical-align: top;\n",
              "    }\n",
              "\n",
              "    .dataframe thead th {\n",
              "        text-align: right;\n",
              "    }\n",
              "</style>\n",
              "<table border=\"1\" class=\"dataframe\">\n",
              "  <thead>\n",
              "    <tr style=\"text-align: right;\">\n",
              "      <th></th>\n",
              "      <th>Predicted 0</th>\n",
              "      <th>Predicted 1</th>\n",
              "    </tr>\n",
              "  </thead>\n",
              "  <tbody>\n",
              "    <tr>\n",
              "      <th>Actual 0</th>\n",
              "      <td>59.0</td>\n",
              "      <td>15.0</td>\n",
              "    </tr>\n",
              "    <tr>\n",
              "      <th>Actual 1</th>\n",
              "      <td>31.0</td>\n",
              "      <td>63.0</td>\n",
              "    </tr>\n",
              "  </tbody>\n",
              "</table>\n",
              "</div>"
            ],
            "text/plain": [
              "          Predicted 0  Predicted 1\n",
              "Actual 0         59.0         15.0\n",
              "Actual 1         31.0         63.0"
            ]
          },
          "metadata": {
            "tags": []
          }
        },
        {
          "output_type": "stream",
          "text": [
            "モデルの正確率: 72.619%\n",
            "モデルの誤判別率: 27.381%\n"
          ],
          "name": "stdout"
        }
      ]
    },
    {
      "cell_type": "markdown",
      "metadata": {
        "id": "_CSBTpklcekD"
      },
      "source": [
        "####テストデータ"
      ]
    },
    {
      "cell_type": "code",
      "metadata": {
        "colab": {
          "base_uri": "https://localhost:8080/",
          "height": 162
        },
        "id": "R3esyiLocekE",
        "outputId": "4ebacef8-3186-43c1-d834-ad615af45d3a"
      },
      "source": [
        "cm = confusionMatrix(X_tests[1], y_test, results[1])\n",
        "cm_df = formConfusionMatrix(cm[0])\n",
        "print ('モデルの正確率: {:.3%}'.format(cm[1]))\n",
        "print ('モデルの誤判別率: {:.3%}'.format(1-cm[1]))"
      ],
      "execution_count": null,
      "outputs": [
        {
          "output_type": "display_data",
          "data": {
            "application/vnd.google.colaboratory.module+javascript": "\n      import \"https://ssl.gstatic.com/colaboratory/data_table/a6224c040fa35dcf/data_table.js\";\n\n      window.createDataTable({\n        data: [[\"Actual 0\",\n{\n            'v': 5.0,\n            'f': \"5.0\",\n        },\n{\n            'v': 1.0,\n            'f': \"1.0\",\n        }],\n [\"Actual 1\",\n{\n            'v': 3.0,\n            'f': \"3.0\",\n        },\n{\n            'v': 10.0,\n            'f': \"10.0\",\n        }]],\n        columns: [[\"string\", \"index\"], [\"number\", \"Predicted 0\"], [\"number\", \"Predicted 1\"]],\n        columnOptions: [{\"width\": \"1px\", \"className\": \"index_column\"}],\n        rowsPerPage: 25,\n        helpUrl: \"https://colab.research.google.com/notebooks/data_table.ipynb\",\n        suppressOutputScrolling: true,\n        minimumWidth: undefined,\n      });\n    ",
            "text/html": [
              "<div>\n",
              "<style scoped>\n",
              "    .dataframe tbody tr th:only-of-type {\n",
              "        vertical-align: middle;\n",
              "    }\n",
              "\n",
              "    .dataframe tbody tr th {\n",
              "        vertical-align: top;\n",
              "    }\n",
              "\n",
              "    .dataframe thead th {\n",
              "        text-align: right;\n",
              "    }\n",
              "</style>\n",
              "<table border=\"1\" class=\"dataframe\">\n",
              "  <thead>\n",
              "    <tr style=\"text-align: right;\">\n",
              "      <th></th>\n",
              "      <th>Predicted 0</th>\n",
              "      <th>Predicted 1</th>\n",
              "    </tr>\n",
              "  </thead>\n",
              "  <tbody>\n",
              "    <tr>\n",
              "      <th>Actual 0</th>\n",
              "      <td>5.0</td>\n",
              "      <td>1.0</td>\n",
              "    </tr>\n",
              "    <tr>\n",
              "      <th>Actual 1</th>\n",
              "      <td>3.0</td>\n",
              "      <td>10.0</td>\n",
              "    </tr>\n",
              "  </tbody>\n",
              "</table>\n",
              "</div>"
            ],
            "text/plain": [
              "          Predicted 0  Predicted 1\n",
              "Actual 0          5.0          1.0\n",
              "Actual 1          3.0         10.0"
            ]
          },
          "metadata": {
            "tags": []
          }
        },
        {
          "output_type": "stream",
          "text": [
            "モデルの正確率: 78.947%\n",
            "モデルの誤判別率: 21.053%\n"
          ],
          "name": "stdout"
        }
      ]
    },
    {
      "cell_type": "markdown",
      "metadata": {
        "id": "zyqgDlGaIGtf"
      },
      "source": [
        "###SATとGender\n",
        "$e^{1.94}\\simeq 7$<br>\n",
        "SATスコアが同じであれば、女性は男性よりも約7倍合格率が高いことがわかる"
      ]
    },
    {
      "cell_type": "code",
      "metadata": {
        "colab": {
          "base_uri": "https://localhost:8080/"
        },
        "id": "ODKdMgB5IJN6",
        "outputId": "37d02af9-f89c-4a67-ec93-f5f18279396a"
      },
      "source": [
        "print(results[2].summary())"
      ],
      "execution_count": null,
      "outputs": [
        {
          "output_type": "stream",
          "text": [
            "                             Logit Regression Results                            \n",
            "=================================================================================\n",
            "Dep. Variable:     Admitted (yes=1/no=0)   No. Observations:                  168\n",
            "Model:                             Logit   Df Residuals:                      165\n",
            "Method:                              MLE   Df Model:                            2\n",
            "Date:                   Sun, 28 Mar 2021   Pseudo R-squ.:                  0.8249\n",
            "Time:                           01:41:49   Log-Likelihood:                -20.180\n",
            "converged:                          True   LL-Null:                       -115.26\n",
            "Covariance Type:               nonrobust   LLR p-value:                 5.118e-42\n",
            "============================================================================================\n",
            "                               coef    std err          z      P>|z|      [0.025      0.975]\n",
            "--------------------------------------------------------------------------------------------\n",
            "const                      -68.3489     16.454     -4.154      0.000    -100.598     -36.100\n",
            "SAT                          0.0406      0.010      4.129      0.000       0.021       0.060\n",
            "Gender (Female=1/Male=0)     1.9449      0.846      2.299      0.022       0.287       3.603\n",
            "============================================================================================\n",
            "\n",
            "Possibly complete quasi-separation: A fraction 0.27 of observations can be\n",
            "perfectly predicted. This might indicate that there is complete\n",
            "quasi-separation. In this case some parameters will not be identified.\n"
          ],
          "name": "stdout"
        }
      ]
    },
    {
      "cell_type": "markdown",
      "metadata": {
        "id": "QABEHihwckjt"
      },
      "source": [
        "####訓練データ"
      ]
    },
    {
      "cell_type": "code",
      "metadata": {
        "colab": {
          "base_uri": "https://localhost:8080/",
          "height": 162
        },
        "id": "G7PwQob-ckjv",
        "outputId": "0d04b680-5210-43a7-a758-c4bbcd7bd30c"
      },
      "source": [
        "cm_df = formConfusionMatrix(results[2].pred_table())\n",
        "accurecy = getAccuracy(cm_df)\n",
        "print ('モデルの正確率: {:.3%}'.format(accurecy))\n",
        "print ('モデルの誤判別率: {:.3%}'.format(1-accurecy))"
      ],
      "execution_count": null,
      "outputs": [
        {
          "output_type": "display_data",
          "data": {
            "application/vnd.google.colaboratory.module+javascript": "\n      import \"https://ssl.gstatic.com/colaboratory/data_table/a6224c040fa35dcf/data_table.js\";\n\n      window.createDataTable({\n        data: [[\"Actual 0\",\n{\n            'v': 69.0,\n            'f': \"69.0\",\n        },\n{\n            'v': 5.0,\n            'f': \"5.0\",\n        }],\n [\"Actual 1\",\n{\n            'v': 4.0,\n            'f': \"4.0\",\n        },\n{\n            'v': 90.0,\n            'f': \"90.0\",\n        }]],\n        columns: [[\"string\", \"index\"], [\"number\", \"Predicted 0\"], [\"number\", \"Predicted 1\"]],\n        columnOptions: [{\"width\": \"1px\", \"className\": \"index_column\"}],\n        rowsPerPage: 25,\n        helpUrl: \"https://colab.research.google.com/notebooks/data_table.ipynb\",\n        suppressOutputScrolling: true,\n        minimumWidth: undefined,\n      });\n    ",
            "text/html": [
              "<div>\n",
              "<style scoped>\n",
              "    .dataframe tbody tr th:only-of-type {\n",
              "        vertical-align: middle;\n",
              "    }\n",
              "\n",
              "    .dataframe tbody tr th {\n",
              "        vertical-align: top;\n",
              "    }\n",
              "\n",
              "    .dataframe thead th {\n",
              "        text-align: right;\n",
              "    }\n",
              "</style>\n",
              "<table border=\"1\" class=\"dataframe\">\n",
              "  <thead>\n",
              "    <tr style=\"text-align: right;\">\n",
              "      <th></th>\n",
              "      <th>Predicted 0</th>\n",
              "      <th>Predicted 1</th>\n",
              "    </tr>\n",
              "  </thead>\n",
              "  <tbody>\n",
              "    <tr>\n",
              "      <th>Actual 0</th>\n",
              "      <td>69.0</td>\n",
              "      <td>5.0</td>\n",
              "    </tr>\n",
              "    <tr>\n",
              "      <th>Actual 1</th>\n",
              "      <td>4.0</td>\n",
              "      <td>90.0</td>\n",
              "    </tr>\n",
              "  </tbody>\n",
              "</table>\n",
              "</div>"
            ],
            "text/plain": [
              "          Predicted 0  Predicted 1\n",
              "Actual 0         69.0          5.0\n",
              "Actual 1          4.0         90.0"
            ]
          },
          "metadata": {
            "tags": []
          }
        },
        {
          "output_type": "stream",
          "text": [
            "モデルの正確率: 94.643%\n",
            "モデルの誤判別率: 5.357%\n"
          ],
          "name": "stdout"
        }
      ]
    },
    {
      "cell_type": "markdown",
      "metadata": {
        "id": "xOANviJtckjx"
      },
      "source": [
        "####テストデータ"
      ]
    },
    {
      "cell_type": "code",
      "metadata": {
        "colab": {
          "base_uri": "https://localhost:8080/",
          "height": 162
        },
        "id": "n9PiJdQxckjy",
        "outputId": "0bad0d71-2374-4c61-cf30-016fb0d277e8"
      },
      "source": [
        "cm = confusionMatrix(X_tests[2], y_test, results[2])\n",
        "cm_df = formConfusionMatrix(cm[0])\n",
        "print ('モデルの正確率: {:.3%}'.format(cm[1]))\n",
        "print ('モデルの誤判別率: {:.3%}'.format(1-cm[1]))"
      ],
      "execution_count": null,
      "outputs": [
        {
          "output_type": "display_data",
          "data": {
            "application/vnd.google.colaboratory.module+javascript": "\n      import \"https://ssl.gstatic.com/colaboratory/data_table/a6224c040fa35dcf/data_table.js\";\n\n      window.createDataTable({\n        data: [[\"Actual 0\",\n{\n            'v': 5.0,\n            'f': \"5.0\",\n        },\n{\n            'v': 1.0,\n            'f': \"1.0\",\n        }],\n [\"Actual 1\",\n{\n            'v': 1.0,\n            'f': \"1.0\",\n        },\n{\n            'v': 12.0,\n            'f': \"12.0\",\n        }]],\n        columns: [[\"string\", \"index\"], [\"number\", \"Predicted 0\"], [\"number\", \"Predicted 1\"]],\n        columnOptions: [{\"width\": \"1px\", \"className\": \"index_column\"}],\n        rowsPerPage: 25,\n        helpUrl: \"https://colab.research.google.com/notebooks/data_table.ipynb\",\n        suppressOutputScrolling: true,\n        minimumWidth: undefined,\n      });\n    ",
            "text/html": [
              "<div>\n",
              "<style scoped>\n",
              "    .dataframe tbody tr th:only-of-type {\n",
              "        vertical-align: middle;\n",
              "    }\n",
              "\n",
              "    .dataframe tbody tr th {\n",
              "        vertical-align: top;\n",
              "    }\n",
              "\n",
              "    .dataframe thead th {\n",
              "        text-align: right;\n",
              "    }\n",
              "</style>\n",
              "<table border=\"1\" class=\"dataframe\">\n",
              "  <thead>\n",
              "    <tr style=\"text-align: right;\">\n",
              "      <th></th>\n",
              "      <th>Predicted 0</th>\n",
              "      <th>Predicted 1</th>\n",
              "    </tr>\n",
              "  </thead>\n",
              "  <tbody>\n",
              "    <tr>\n",
              "      <th>Actual 0</th>\n",
              "      <td>5.0</td>\n",
              "      <td>1.0</td>\n",
              "    </tr>\n",
              "    <tr>\n",
              "      <th>Actual 1</th>\n",
              "      <td>1.0</td>\n",
              "      <td>12.0</td>\n",
              "    </tr>\n",
              "  </tbody>\n",
              "</table>\n",
              "</div>"
            ],
            "text/plain": [
              "          Predicted 0  Predicted 1\n",
              "Actual 0          5.0          1.0\n",
              "Actual 1          1.0         12.0"
            ]
          },
          "metadata": {
            "tags": []
          }
        },
        {
          "output_type": "stream",
          "text": [
            "モデルの正確率: 89.474%\n",
            "モデルの誤判別率: 10.526%\n"
          ],
          "name": "stdout"
        }
      ]
    }
  ]
}