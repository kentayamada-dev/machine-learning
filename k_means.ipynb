{
  "nbformat": 4,
  "nbformat_minor": 0,
  "metadata": {
    "colab": {
      "name": "k_means.ipynb",
      "provenance": [],
      "collapsed_sections": [],
      "authorship_tag": "ABX9TyMemtBzOGp70QmoadjN5ZtP",
      "include_colab_link": true
    },
    "kernelspec": {
      "name": "python3",
      "display_name": "Python 3"
    },
    "language_info": {
      "name": "python"
    }
  },
  "cells": [
    {
      "cell_type": "markdown",
      "metadata": {
        "id": "view-in-github",
        "colab_type": "text"
      },
      "source": [
        "<a href=\"https://colab.research.google.com/github/dev-kentayamada/machine-learning/blob/main/k_means.ipynb\" target=\"_parent\"><img src=\"https://colab.research.google.com/assets/colab-badge.svg\" alt=\"Open In Colab\"/></a>"
      ]
    },
    {
      "cell_type": "markdown",
      "metadata": {
        "id": "zmTb-pH-_6nZ"
      },
      "source": [
        "##ライブラリのインポート"
      ]
    },
    {
      "cell_type": "code",
      "metadata": {
        "id": "hvqQPEWL_2p0"
      },
      "source": [
        "import numpy as np\n",
        "import pandas as pd\n",
        "import matplotlib.pyplot as plt\n",
        "import seaborn as sns\n",
        "from sklearn.cluster import KMeans\n",
        "from sklearn import preprocessing\n",
        "from IPython.display import HTML, display\n",
        "#出力結果に対してフィルタリング・ページング\n",
        "%load_ext google.colab.data_table\n",
        "sns.set() #seabornのデフォルトスタイルを適用"
      ],
      "execution_count": 1,
      "outputs": []
    },
    {
      "cell_type": "markdown",
      "metadata": {
        "id": "a3k5ksQOkYGM"
      },
      "source": [
        "##データを読み込む\n",
        "- データの概要\n",
        "  - Satisfaction(満足度)\n",
        "   - 離散変数\n",
        "   - 範囲(1, 2, 3, 4, 5, 6, 7, 8, 9, 10)\n",
        "  - Loyalty(ロイヤリティ)\n",
        "   - 直近一年間での購入履歴+ほかの要因\n",
        "   - 標準化済み\n",
        "   - 連続変数\n",
        "   - 範囲(-2.5 ~ 2.5)"
      ]
    },
    {
      "cell_type": "code",
      "metadata": {
        "colab": {
          "base_uri": "https://localhost:8080/",
          "height": 1063
        },
        "id": "H89Bb0d7kY5d",
        "outputId": "b6ea3d41-1e91-4844-df30-5ca1e2ba7a84"
      },
      "source": [
        "!gdown --id 1AApA-jqAFSXyZ80kgLQSk_gVkz6nq2Eh #Google driveからデータをダウンロード\n",
        "data = pd.read_csv('3.12. Example.csv')\n",
        "display(data)\n",
        "display(data.describe(include='all'))\n",
        "display(data.info())"
      ],
      "execution_count": 2,
      "outputs": [
        {
          "output_type": "stream",
          "text": [
            "Downloading...\n",
            "From: https://drive.google.com/uc?id=1AApA-jqAFSXyZ80kgLQSk_gVkz6nq2Eh\n",
            "To: /content/3.12. Example.csv\n",
            "\r  0% 0.00/283 [00:00<?, ?B/s]\r100% 283/283 [00:00<00:00, 542kB/s]\n"
          ],
          "name": "stdout"
        },
        {
          "output_type": "display_data",
          "data": {
            "application/vnd.google.colaboratory.module+javascript": "\n      import \"https://ssl.gstatic.com/colaboratory/data_table/a6224c040fa35dcf/data_table.js\";\n\n      window.createDataTable({\n        data: [[{\n            'v': 0,\n            'f': \"0\",\n        },\n{\n            'v': 4,\n            'f': \"4\",\n        },\n{\n            'v': -1.33,\n            'f': \"-1.33\",\n        }],\n [{\n            'v': 1,\n            'f': \"1\",\n        },\n{\n            'v': 6,\n            'f': \"6\",\n        },\n{\n            'v': -0.28,\n            'f': \"-0.28\",\n        }],\n [{\n            'v': 2,\n            'f': \"2\",\n        },\n{\n            'v': 5,\n            'f': \"5\",\n        },\n{\n            'v': -0.99,\n            'f': \"-0.99\",\n        }],\n [{\n            'v': 3,\n            'f': \"3\",\n        },\n{\n            'v': 7,\n            'f': \"7\",\n        },\n{\n            'v': -0.29,\n            'f': \"-0.29\",\n        }],\n [{\n            'v': 4,\n            'f': \"4\",\n        },\n{\n            'v': 4,\n            'f': \"4\",\n        },\n{\n            'v': 1.06,\n            'f': \"1.06\",\n        }],\n [{\n            'v': 5,\n            'f': \"5\",\n        },\n{\n            'v': 1,\n            'f': \"1\",\n        },\n{\n            'v': -1.66,\n            'f': \"-1.66\",\n        }],\n [{\n            'v': 6,\n            'f': \"6\",\n        },\n{\n            'v': 10,\n            'f': \"10\",\n        },\n{\n            'v': -0.97,\n            'f': \"-0.97\",\n        }],\n [{\n            'v': 7,\n            'f': \"7\",\n        },\n{\n            'v': 8,\n            'f': \"8\",\n        },\n{\n            'v': -0.32,\n            'f': \"-0.32\",\n        }],\n [{\n            'v': 8,\n            'f': \"8\",\n        },\n{\n            'v': 8,\n            'f': \"8\",\n        },\n{\n            'v': 1.02,\n            'f': \"1.02\",\n        }],\n [{\n            'v': 9,\n            'f': \"9\",\n        },\n{\n            'v': 8,\n            'f': \"8\",\n        },\n{\n            'v': 0.68,\n            'f': \"0.68\",\n        }],\n [{\n            'v': 10,\n            'f': \"10\",\n        },\n{\n            'v': 10,\n            'f': \"10\",\n        },\n{\n            'v': -0.34,\n            'f': \"-0.34\",\n        }],\n [{\n            'v': 11,\n            'f': \"11\",\n        },\n{\n            'v': 5,\n            'f': \"5\",\n        },\n{\n            'v': 0.39,\n            'f': \"0.39\",\n        }],\n [{\n            'v': 12,\n            'f': \"12\",\n        },\n{\n            'v': 5,\n            'f': \"5\",\n        },\n{\n            'v': -1.69,\n            'f': \"-1.69\",\n        }],\n [{\n            'v': 13,\n            'f': \"13\",\n        },\n{\n            'v': 2,\n            'f': \"2\",\n        },\n{\n            'v': 0.67,\n            'f': \"0.67\",\n        }],\n [{\n            'v': 14,\n            'f': \"14\",\n        },\n{\n            'v': 7,\n            'f': \"7\",\n        },\n{\n            'v': 0.27,\n            'f': \"0.27\",\n        }],\n [{\n            'v': 15,\n            'f': \"15\",\n        },\n{\n            'v': 9,\n            'f': \"9\",\n        },\n{\n            'v': 1.36,\n            'f': \"1.36\",\n        }],\n [{\n            'v': 16,\n            'f': \"16\",\n        },\n{\n            'v': 8,\n            'f': \"8\",\n        },\n{\n            'v': 1.38,\n            'f': \"1.38\",\n        }],\n [{\n            'v': 17,\n            'f': \"17\",\n        },\n{\n            'v': 7,\n            'f': \"7\",\n        },\n{\n            'v': 1.36,\n            'f': \"1.36\",\n        }],\n [{\n            'v': 18,\n            'f': \"18\",\n        },\n{\n            'v': 7,\n            'f': \"7\",\n        },\n{\n            'v': -0.34,\n            'f': \"-0.34\",\n        }],\n [{\n            'v': 19,\n            'f': \"19\",\n        },\n{\n            'v': 9,\n            'f': \"9\",\n        },\n{\n            'v': 0.67,\n            'f': \"0.67\",\n        }],\n [{\n            'v': 20,\n            'f': \"20\",\n        },\n{\n            'v': 10,\n            'f': \"10\",\n        },\n{\n            'v': 1.18,\n            'f': \"1.18\",\n        }],\n [{\n            'v': 21,\n            'f': \"21\",\n        },\n{\n            'v': 3,\n            'f': \"3\",\n        },\n{\n            'v': -1.69,\n            'f': \"-1.69\",\n        }],\n [{\n            'v': 22,\n            'f': \"22\",\n        },\n{\n            'v': 4,\n            'f': \"4\",\n        },\n{\n            'v': 1.04,\n            'f': \"1.04\",\n        }],\n [{\n            'v': 23,\n            'f': \"23\",\n        },\n{\n            'v': 3,\n            'f': \"3\",\n        },\n{\n            'v': -0.96,\n            'f': \"-0.96\",\n        }],\n [{\n            'v': 24,\n            'f': \"24\",\n        },\n{\n            'v': 6,\n            'f': \"6\",\n        },\n{\n            'v': 1.03,\n            'f': \"1.03\",\n        }],\n [{\n            'v': 25,\n            'f': \"25\",\n        },\n{\n            'v': 9,\n            'f': \"9\",\n        },\n{\n            'v': -0.99,\n            'f': \"-0.99\",\n        }],\n [{\n            'v': 26,\n            'f': \"26\",\n        },\n{\n            'v': 10,\n            'f': \"10\",\n        },\n{\n            'v': 0.37,\n            'f': \"0.37\",\n        }],\n [{\n            'v': 27,\n            'f': \"27\",\n        },\n{\n            'v': 9,\n            'f': \"9\",\n        },\n{\n            'v': 0.03,\n            'f': \"0.03\",\n        }],\n [{\n            'v': 28,\n            'f': \"28\",\n        },\n{\n            'v': 3,\n            'f': \"3\",\n        },\n{\n            'v': -1.36,\n            'f': \"-1.36\",\n        }],\n [{\n            'v': 29,\n            'f': \"29\",\n        },\n{\n            'v': 5,\n            'f': \"5\",\n        },\n{\n            'v': 0.73,\n            'f': \"0.73\",\n        }]],\n        columns: [[\"number\", \"index\"], [\"number\", \"Satisfaction\"], [\"number\", \"Loyalty\"]],\n        columnOptions: [{\"width\": \"1px\", \"className\": \"index_column\"}],\n        rowsPerPage: 25,\n        helpUrl: \"https://colab.research.google.com/notebooks/data_table.ipynb\",\n        suppressOutputScrolling: true,\n        minimumWidth: undefined,\n      });\n    ",
            "text/html": [
              "<div>\n",
              "<style scoped>\n",
              "    .dataframe tbody tr th:only-of-type {\n",
              "        vertical-align: middle;\n",
              "    }\n",
              "\n",
              "    .dataframe tbody tr th {\n",
              "        vertical-align: top;\n",
              "    }\n",
              "\n",
              "    .dataframe thead th {\n",
              "        text-align: right;\n",
              "    }\n",
              "</style>\n",
              "<table border=\"1\" class=\"dataframe\">\n",
              "  <thead>\n",
              "    <tr style=\"text-align: right;\">\n",
              "      <th></th>\n",
              "      <th>Satisfaction</th>\n",
              "      <th>Loyalty</th>\n",
              "    </tr>\n",
              "  </thead>\n",
              "  <tbody>\n",
              "    <tr>\n",
              "      <th>0</th>\n",
              "      <td>4</td>\n",
              "      <td>-1.33</td>\n",
              "    </tr>\n",
              "    <tr>\n",
              "      <th>1</th>\n",
              "      <td>6</td>\n",
              "      <td>-0.28</td>\n",
              "    </tr>\n",
              "    <tr>\n",
              "      <th>2</th>\n",
              "      <td>5</td>\n",
              "      <td>-0.99</td>\n",
              "    </tr>\n",
              "    <tr>\n",
              "      <th>3</th>\n",
              "      <td>7</td>\n",
              "      <td>-0.29</td>\n",
              "    </tr>\n",
              "    <tr>\n",
              "      <th>4</th>\n",
              "      <td>4</td>\n",
              "      <td>1.06</td>\n",
              "    </tr>\n",
              "    <tr>\n",
              "      <th>5</th>\n",
              "      <td>1</td>\n",
              "      <td>-1.66</td>\n",
              "    </tr>\n",
              "    <tr>\n",
              "      <th>6</th>\n",
              "      <td>10</td>\n",
              "      <td>-0.97</td>\n",
              "    </tr>\n",
              "    <tr>\n",
              "      <th>7</th>\n",
              "      <td>8</td>\n",
              "      <td>-0.32</td>\n",
              "    </tr>\n",
              "    <tr>\n",
              "      <th>8</th>\n",
              "      <td>8</td>\n",
              "      <td>1.02</td>\n",
              "    </tr>\n",
              "    <tr>\n",
              "      <th>9</th>\n",
              "      <td>8</td>\n",
              "      <td>0.68</td>\n",
              "    </tr>\n",
              "    <tr>\n",
              "      <th>10</th>\n",
              "      <td>10</td>\n",
              "      <td>-0.34</td>\n",
              "    </tr>\n",
              "    <tr>\n",
              "      <th>11</th>\n",
              "      <td>5</td>\n",
              "      <td>0.39</td>\n",
              "    </tr>\n",
              "    <tr>\n",
              "      <th>12</th>\n",
              "      <td>5</td>\n",
              "      <td>-1.69</td>\n",
              "    </tr>\n",
              "    <tr>\n",
              "      <th>13</th>\n",
              "      <td>2</td>\n",
              "      <td>0.67</td>\n",
              "    </tr>\n",
              "    <tr>\n",
              "      <th>14</th>\n",
              "      <td>7</td>\n",
              "      <td>0.27</td>\n",
              "    </tr>\n",
              "    <tr>\n",
              "      <th>15</th>\n",
              "      <td>9</td>\n",
              "      <td>1.36</td>\n",
              "    </tr>\n",
              "    <tr>\n",
              "      <th>16</th>\n",
              "      <td>8</td>\n",
              "      <td>1.38</td>\n",
              "    </tr>\n",
              "    <tr>\n",
              "      <th>17</th>\n",
              "      <td>7</td>\n",
              "      <td>1.36</td>\n",
              "    </tr>\n",
              "    <tr>\n",
              "      <th>18</th>\n",
              "      <td>7</td>\n",
              "      <td>-0.34</td>\n",
              "    </tr>\n",
              "    <tr>\n",
              "      <th>19</th>\n",
              "      <td>9</td>\n",
              "      <td>0.67</td>\n",
              "    </tr>\n",
              "    <tr>\n",
              "      <th>20</th>\n",
              "      <td>10</td>\n",
              "      <td>1.18</td>\n",
              "    </tr>\n",
              "    <tr>\n",
              "      <th>21</th>\n",
              "      <td>3</td>\n",
              "      <td>-1.69</td>\n",
              "    </tr>\n",
              "    <tr>\n",
              "      <th>22</th>\n",
              "      <td>4</td>\n",
              "      <td>1.04</td>\n",
              "    </tr>\n",
              "    <tr>\n",
              "      <th>23</th>\n",
              "      <td>3</td>\n",
              "      <td>-0.96</td>\n",
              "    </tr>\n",
              "    <tr>\n",
              "      <th>24</th>\n",
              "      <td>6</td>\n",
              "      <td>1.03</td>\n",
              "    </tr>\n",
              "    <tr>\n",
              "      <th>25</th>\n",
              "      <td>9</td>\n",
              "      <td>-0.99</td>\n",
              "    </tr>\n",
              "    <tr>\n",
              "      <th>26</th>\n",
              "      <td>10</td>\n",
              "      <td>0.37</td>\n",
              "    </tr>\n",
              "    <tr>\n",
              "      <th>27</th>\n",
              "      <td>9</td>\n",
              "      <td>0.03</td>\n",
              "    </tr>\n",
              "    <tr>\n",
              "      <th>28</th>\n",
              "      <td>3</td>\n",
              "      <td>-1.36</td>\n",
              "    </tr>\n",
              "    <tr>\n",
              "      <th>29</th>\n",
              "      <td>5</td>\n",
              "      <td>0.73</td>\n",
              "    </tr>\n",
              "  </tbody>\n",
              "</table>\n",
              "</div>"
            ],
            "text/plain": [
              "    Satisfaction  Loyalty\n",
              "0              4    -1.33\n",
              "1              6    -0.28\n",
              "2              5    -0.99\n",
              "3              7    -0.29\n",
              "4              4     1.06\n",
              "5              1    -1.66\n",
              "6             10    -0.97\n",
              "7              8    -0.32\n",
              "8              8     1.02\n",
              "9              8     0.68\n",
              "10            10    -0.34\n",
              "11             5     0.39\n",
              "12             5    -1.69\n",
              "13             2     0.67\n",
              "14             7     0.27\n",
              "15             9     1.36\n",
              "16             8     1.38\n",
              "17             7     1.36\n",
              "18             7    -0.34\n",
              "19             9     0.67\n",
              "20            10     1.18\n",
              "21             3    -1.69\n",
              "22             4     1.04\n",
              "23             3    -0.96\n",
              "24             6     1.03\n",
              "25             9    -0.99\n",
              "26            10     0.37\n",
              "27             9     0.03\n",
              "28             3    -1.36\n",
              "29             5     0.73"
            ]
          },
          "metadata": {
            "tags": []
          }
        },
        {
          "output_type": "display_data",
          "data": {
            "application/vnd.google.colaboratory.module+javascript": "\n      import \"https://ssl.gstatic.com/colaboratory/data_table/a6224c040fa35dcf/data_table.js\";\n\n      window.createDataTable({\n        data: [[\"count\",\n{\n            'v': 30.0,\n            'f': \"30.0\",\n        },\n{\n            'v': 30.0,\n            'f': \"30.0\",\n        }],\n [\"mean\",\n{\n            'v': 6.4,\n            'f': \"6.4\",\n        },\n{\n            'v': 0.0010000000000000046,\n            'f': \"0.0010000000000000046\",\n        }],\n [\"std\",\n{\n            'v': 2.6208711370918985,\n            'f': \"2.6208711370918985\",\n        },\n{\n            'v': 1.0164758253142452,\n            'f': \"1.0164758253142452\",\n        }],\n [\"min\",\n{\n            'v': 1.0,\n            'f': \"1.0\",\n        },\n{\n            'v': -1.69,\n            'f': \"-1.69\",\n        }],\n [\"25%\",\n{\n            'v': 4.25,\n            'f': \"4.25\",\n        },\n{\n            'v': -0.9675,\n            'f': \"-0.9675\",\n        }],\n [\"50%\",\n{\n            'v': 7.0,\n            'f': \"7.0\",\n        },\n{\n            'v': 0.15000000000000002,\n            'f': \"0.15000000000000002\",\n        }],\n [\"75%\",\n{\n            'v': 8.75,\n            'f': \"8.75\",\n        },\n{\n            'v': 0.9475,\n            'f': \"0.9475\",\n        }],\n [\"max\",\n{\n            'v': 10.0,\n            'f': \"10.0\",\n        },\n{\n            'v': 1.38,\n            'f': \"1.38\",\n        }]],\n        columns: [[\"string\", \"index\"], [\"number\", \"Satisfaction\"], [\"number\", \"Loyalty\"]],\n        columnOptions: [{\"width\": \"1px\", \"className\": \"index_column\"}],\n        rowsPerPage: 25,\n        helpUrl: \"https://colab.research.google.com/notebooks/data_table.ipynb\",\n        suppressOutputScrolling: true,\n        minimumWidth: undefined,\n      });\n    ",
            "text/html": [
              "<div>\n",
              "<style scoped>\n",
              "    .dataframe tbody tr th:only-of-type {\n",
              "        vertical-align: middle;\n",
              "    }\n",
              "\n",
              "    .dataframe tbody tr th {\n",
              "        vertical-align: top;\n",
              "    }\n",
              "\n",
              "    .dataframe thead th {\n",
              "        text-align: right;\n",
              "    }\n",
              "</style>\n",
              "<table border=\"1\" class=\"dataframe\">\n",
              "  <thead>\n",
              "    <tr style=\"text-align: right;\">\n",
              "      <th></th>\n",
              "      <th>Satisfaction</th>\n",
              "      <th>Loyalty</th>\n",
              "    </tr>\n",
              "  </thead>\n",
              "  <tbody>\n",
              "    <tr>\n",
              "      <th>count</th>\n",
              "      <td>30.000000</td>\n",
              "      <td>30.000000</td>\n",
              "    </tr>\n",
              "    <tr>\n",
              "      <th>mean</th>\n",
              "      <td>6.400000</td>\n",
              "      <td>0.001000</td>\n",
              "    </tr>\n",
              "    <tr>\n",
              "      <th>std</th>\n",
              "      <td>2.620871</td>\n",
              "      <td>1.016476</td>\n",
              "    </tr>\n",
              "    <tr>\n",
              "      <th>min</th>\n",
              "      <td>1.000000</td>\n",
              "      <td>-1.690000</td>\n",
              "    </tr>\n",
              "    <tr>\n",
              "      <th>25%</th>\n",
              "      <td>4.250000</td>\n",
              "      <td>-0.967500</td>\n",
              "    </tr>\n",
              "    <tr>\n",
              "      <th>50%</th>\n",
              "      <td>7.000000</td>\n",
              "      <td>0.150000</td>\n",
              "    </tr>\n",
              "    <tr>\n",
              "      <th>75%</th>\n",
              "      <td>8.750000</td>\n",
              "      <td>0.947500</td>\n",
              "    </tr>\n",
              "    <tr>\n",
              "      <th>max</th>\n",
              "      <td>10.000000</td>\n",
              "      <td>1.380000</td>\n",
              "    </tr>\n",
              "  </tbody>\n",
              "</table>\n",
              "</div>"
            ],
            "text/plain": [
              "       Satisfaction    Loyalty\n",
              "count     30.000000  30.000000\n",
              "mean       6.400000   0.001000\n",
              "std        2.620871   1.016476\n",
              "min        1.000000  -1.690000\n",
              "25%        4.250000  -0.967500\n",
              "50%        7.000000   0.150000\n",
              "75%        8.750000   0.947500\n",
              "max       10.000000   1.380000"
            ]
          },
          "metadata": {
            "tags": []
          }
        },
        {
          "output_type": "stream",
          "text": [
            "<class 'pandas.core.frame.DataFrame'>\n",
            "RangeIndex: 30 entries, 0 to 29\n",
            "Data columns (total 2 columns):\n",
            " #   Column        Non-Null Count  Dtype  \n",
            "---  ------        --------------  -----  \n",
            " 0   Satisfaction  30 non-null     int64  \n",
            " 1   Loyalty       30 non-null     float64\n",
            "dtypes: float64(1), int64(1)\n",
            "memory usage: 608.0 bytes\n"
          ],
          "name": "stdout"
        },
        {
          "output_type": "display_data",
          "data": {
            "text/plain": [
              "None"
            ]
          },
          "metadata": {
            "tags": []
          }
        }
      ]
    },
    {
      "cell_type": "markdown",
      "metadata": {
        "id": "pUuA2RbSBhEX"
      },
      "source": [
        "##可視化"
      ]
    },
    {
      "cell_type": "code",
      "metadata": {
        "colab": {
          "base_uri": "https://localhost:8080/",
          "height": 304
        },
        "id": "BV3ZV8q2BhmD",
        "outputId": "3947a363-6071-4ab7-8cb2-965ac6741a77"
      },
      "source": [
        "sns.scatterplot(data=data, x='Satisfaction', y='Loyalty')"
      ],
      "execution_count": 3,
      "outputs": [
        {
          "output_type": "execute_result",
          "data": {
            "text/plain": [
              "<matplotlib.axes._subplots.AxesSubplot at 0x7f004df178d0>"
            ]
          },
          "metadata": {
            "tags": []
          },
          "execution_count": 3
        },
        {
          "output_type": "display_data",
          "data": {
            "image/png": "[encoded data removed]",
            "text/plain": [
              "<Figure size 432x288 with 1 Axes>"
            ]
          },
          "metadata": {
            "tags": [],
            "needs_background": "light"
          }
        }
      ]
    },
    {
      "cell_type": "markdown",
      "metadata": {
        "id": "jHYb6QlhB_8j"
      },
      "source": [
        "## クラスター分析に使うデータの指定"
      ]
    },
    {
      "cell_type": "code",
      "metadata": {
        "id": "-ocd8grBF5kC"
      },
      "source": [
        "Xs = []"
      ],
      "execution_count": 4,
      "outputs": []
    },
    {
      "cell_type": "markdown",
      "metadata": {
        "id": "KnAhsdFjE8ou"
      },
      "source": [
        "###標準化していない"
      ]
    },
    {
      "cell_type": "code",
      "metadata": {
        "id": "40iaYdAzCAPQ"
      },
      "source": [
        "Xs.append(data)"
      ],
      "execution_count": 5,
      "outputs": []
    },
    {
      "cell_type": "markdown",
      "metadata": {
        "id": "jDbVwnnVCOlK"
      },
      "source": [
        "###標準化した\n"
      ]
    },
    {
      "cell_type": "code",
      "metadata": {
        "id": "jllQ449oFBth"
      },
      "source": [
        "Xs.append(preprocessing.scale(data))"
      ],
      "execution_count": 6,
      "outputs": []
    },
    {
      "cell_type": "markdown",
      "metadata": {
        "id": "WBLLInZVFNzx"
      },
      "source": [
        "##クラスター分析"
      ]
    },
    {
      "cell_type": "markdown",
      "metadata": {
        "id": "62i-XbA7Fbj3"
      },
      "source": [
        "###クラスター数を求める(WCSS)"
      ]
    },
    {
      "cell_type": "code",
      "metadata": {
        "colab": {
          "base_uri": "https://localhost:8080/",
          "height": 627
        },
        "id": "tWmib-DxFcK2",
        "outputId": "e9439683-6cf3-4bc0-aa11-46bd87c2c2c0"
      },
      "source": [
        "labels = ['Not Standardized', 'Standardized']\n",
        "fig, ax = plt.subplots(1, 2, figsize=(10, 10))\n",
        "plt.subplots_adjust(wspace=0.4, hspace=0.6)\n",
        "for index, (X, label) in enumerate(zip(Xs, labels)):\n",
        "  wcss = []\n",
        "  num_cluter = range(1,10)\n",
        "\n",
        "  for i in num_cluter:\n",
        "    kmeans = KMeans(n_clusters=i)\n",
        "    kmeans.fit(X)\n",
        "    wcss_iter = kmeans.inertia_\n",
        "    wcss.append(wcss_iter)\n",
        "  \n",
        "  #エルボー法\n",
        "  ax[index].plot(num_cluter, wcss)\n",
        "  ax[index].set_title(label)\n",
        "  ax[index].set_xlabel('Number of clusters')\n",
        "  ax[index].set_ylabel('WCSS')\n",
        "  ax[index].set_xlim([0, 10])\n",
        "  ax[index].xaxis.set_ticks(np.arange(0, 10, 1)) #y軸目盛間隔を調整"
      ],
      "execution_count": 7,
      "outputs": [
        {
          "output_type": "display_data",
          "data": {
            "image/png": "[encoded data removed]",
            "text/plain": [
              "<Figure size 720x720 with 2 Axes>"
            ]
          },
          "metadata": {
            "tags": [],
            "needs_background": "light"
          }
        }
      ]
    },
    {
      "cell_type": "markdown",
      "metadata": {
        "id": "yKzy_uxiCioj"
      },
      "source": [
        "##結果"
      ]
    },
    {
      "cell_type": "markdown",
      "metadata": {
        "id": "bKxYtknRGZ2y"
      },
      "source": [
        "###標準化してない\n",
        "- 想定したクラスターではない\n",
        "- 満足度のみをもとにクラスタリングされたことが予想される(満足度の幅がロイヤリティより広いため)"
      ]
    },
    {
      "cell_type": "code",
      "metadata": {
        "colab": {
          "base_uri": "https://localhost:8080/",
          "height": 304
        },
        "id": "7qsdgZuuCi9E",
        "outputId": "22048276-1862-4c15-82c7-539c832a2283"
      },
      "source": [
        "pred = KMeans(n_clusters=3).fit_predict(Xs[0])\n",
        "data['Cluster'] = pred\n",
        "sns.scatterplot(data=data, x='Satisfaction', y='Loyalty', hue=\"Cluster\", palette=\"deep\")"
      ],
      "execution_count": 8,
      "outputs": [
        {
          "output_type": "execute_result",
          "data": {
            "text/plain": [
              "<matplotlib.axes._subplots.AxesSubplot at 0x7f0044e6e8d0>"
            ]
          },
          "metadata": {
            "tags": []
          },
          "execution_count": 8
        },
        {
          "output_type": "display_data",
          "data": {
            "image/png": "[encoded data removed]",
            "text/plain": [
              "<Figure size 432x288 with 1 Axes>"
            ]
          },
          "metadata": {
            "tags": [],
            "needs_background": "light"
          }
        }
      ]
    },
    {
      "cell_type": "markdown",
      "metadata": {
        "id": "6X-v4F-pIaQX"
      },
      "source": [
        "###標準化した"
      ]
    },
    {
      "cell_type": "code",
      "metadata": {
        "colab": {
          "base_uri": "https://localhost:8080/",
          "height": 304
        },
        "id": "TkiztP4SIduD",
        "outputId": "a5017576-4f99-4c52-fa1a-899bd354c680"
      },
      "source": [
        "pred = KMeans(n_clusters=3).fit_predict(Xs[1])\n",
        "data['Cluster'] = pred\n",
        "sns.scatterplot(data=data, x='Satisfaction', y='Loyalty', hue=\"Cluster\", palette=\"deep\")"
      ],
      "execution_count": 9,
      "outputs": [
        {
          "output_type": "execute_result",
          "data": {
            "text/plain": [
              "<matplotlib.axes._subplots.AxesSubplot at 0x7f0044e88650>"
            ]
          },
          "metadata": {
            "tags": []
          },
          "execution_count": 9
        },
        {
          "output_type": "display_data",
          "data": {
            "image/png": "[encoded data removed]",
            "text/plain": [
              "<Figure size 432x288 with 1 Axes>"
            ]
          },
          "metadata": {
            "tags": [],
            "needs_background": "light"
          }
        }
      ]
    }
  ]
}